{
 "cells": [
  {
   "cell_type": "markdown",
   "metadata": {},
   "source": [
    "**Import Library**"
   ]
  },
  {
   "cell_type": "code",
   "execution_count": 501,
   "metadata": {},
   "outputs": [],
   "source": [
    "import numpy as np\n",
    "import matplotlib.pyplot as plt\n",
    "import matplotlib.image as im\n",
    "import sympy as sp\n",
    "from PIL import Image, ImageOps\n",
    "import os"
   ]
  },
  {
   "cell_type": "markdown",
   "metadata": {},
   "source": [
    "**Function**"
   ]
  },
  {
   "cell_type": "code",
   "execution_count": 511,
   "metadata": {},
   "outputs": [],
   "source": [
    "#Process the Image into a flat 1D array\n",
    "def ProcessImage(img):\n",
    "    Grascale = ImageOps.grayscale(img)\n",
    "    Facematrix = im.pil_to_array(Grascale)\n",
    "    FlatFaceArray = np.concat(Facematrix,axis=None)\n",
    "    return FlatFaceArray\n"
   ]
  },
  {
   "cell_type": "markdown",
   "metadata": {},
   "source": [
    "**Size of the data**"
   ]
  },
  {
   "cell_type": "code",
   "execution_count": 512,
   "metadata": {},
   "outputs": [],
   "source": [
    "imgdir = \"Data\\\\\" + \"1.jpg\"\n",
    "Face= Image.open(imgdir)\n",
    "GrascaleFace=ImageOps.grayscale(Face)\n",
    "FaceArray = im.pil_to_array(GrascaleFace)\n",
    "Height, Width = np.shape(FaceArray)\n",
    "num_files = sum(1 for entry in os.scandir(\"Data\") if entry.is_file())"
   ]
  },
  {
   "cell_type": "markdown",
   "metadata": {},
   "source": [
    "**Make the Data Matrix**"
   ]
  },
  {
   "cell_type": "code",
   "execution_count": 513,
   "metadata": {},
   "outputs": [],
   "source": [
    "for i in range(num_files):\n",
    "    imgdir = \"Data\\\\\" + str(i) + \".jpg\"\n",
    "#Nhap hinh anh\n",
    "    Face = Image.open(imgdir)\n",
    "#Process hinh anh\n",
    "    FlatFaceArray = ProcessImage(Face)\n",
    "    if i == 0:\n",
    "        FaceMatrix = FlatFaceArray\n",
    "    else:\n",
    "        FaceMatrix = np.column_stack((FaceMatrix,FlatFaceArray))"
   ]
  },
  {
   "cell_type": "code",
   "execution_count": 514,
   "metadata": {},
   "outputs": [
    {
     "name": "stdout",
     "output_type": "stream",
     "text": [
      "[203.9375  203.9375  203.9375  ... 209.875   210.46875 211.15625]\n"
     ]
    }
   ],
   "source": [
    "MeanFace=np.mean(FaceMatrix, axis=1)\n",
    "ColumnMeanFace= MeanFace[:, np.newaxis]\n",
    "print(MeanFace)"
   ]
  },
  {
   "cell_type": "code",
   "execution_count": null,
   "metadata": {},
   "outputs": [
    {
     "data": {
      "text/plain": [
       "array([[ 2.21428736e-06,  1.87218365e-05, -4.21816427e-07, ...,\n",
       "         4.51699165e-05,  1.40074906e-05, -2.03875229e-12],\n",
       "       [ 2.21428736e-06,  1.87218365e-05, -4.21816427e-07, ...,\n",
       "         4.51699165e-05,  1.40074906e-05, -2.03875229e-12],\n",
       "       [ 2.21428736e-06,  1.87218365e-05, -4.21816427e-07, ...,\n",
       "         4.51699165e-05,  1.40074906e-05, -2.03875229e-12],\n",
       "       ...,\n",
       "       [ 7.04940586e-04,  1.80757914e-03, -2.09004523e-04, ...,\n",
       "        -1.17098503e-02, -9.72644649e-03, -4.41702479e-09],\n",
       "       [ 6.90363274e-04,  1.73995423e-03, -1.26370344e-04, ...,\n",
       "        -1.09582842e-02, -8.97263676e-03, -4.16281956e-09],\n",
       "       [ 7.00395487e-04,  1.63076503e-03,  1.09699753e-05, ...,\n",
       "        -9.46982822e-03, -7.61477301e-03, -3.65220725e-09]])"
      ]
     },
     "execution_count": 505,
     "metadata": {},
     "output_type": "execute_result"
    }
   ],
   "source": [
    "CenteredFaceMatrix=FaceMatrix  - ColumnMeanFace\n",
    "#Find the Eigenface of the Data\n",
    "BtB=CenteredFaceMatrix.T @ CenteredFaceMatrix\n",
    "V, S, Vt = np.linalg.svd(BtB)\n",
    "V\n",
    "S_matrix=np.sqrt(np.diag(S))\n",
    "S_inv=np.linalg.inv(S_matrix)\n",
    "U=CenteredFaceMatrix @ V @ S_inv\n",
    "U"
   ]
  },
  {
   "cell_type": "code",
   "execution_count": null,
   "metadata": {},
   "outputs": [],
   "source": [
    "#Reconstruct the Eigenface as a picture\n",
    "Eigenface=U @ S_matrix +ColumnMeanFace\n",
    "face = Eigenface[:,1]\n",
    "face = np.split(face, Height)\n",
    "for i in range(len(face)):\n",
    "    if i == 0:\n",
    "        recface=face[0]\n",
    "    else:\n",
    "        recface = np.vstack((recface,face[i]))\n",
    "recim = Image.fromarray(recface).convert(\"L\")\n",
    "recim.save('test.png','PNG')"
   ]
  },
  {
   "cell_type": "code",
   "execution_count": 507,
   "metadata": {},
   "outputs": [],
   "source": [
    "#let G be the face that need to be recognize\n",
    "G = np.random.rand(U[:,1].shape[0])\n",
    "# the cotribution of a eigenface to it is calculated by\n",
    "#Let Omega be the contribution vector\n",
    "\n",
    "def Facespace(vector):\n",
    "    Omega = np.array([])\n",
    "    for i in range(num_files):\n",
    "        diff=U[:,i] @ vector\n",
    "        Omega = np.append(Omega,[[diff]] )\n",
    "    return Omega\n",
    "#Omega= Omega[:, np.newaxis]\n",
    "#Find the threshhold for the picture to be identified as a face, let that be epsilon\n",
    "epsilon=0\n",
    "S = 0\n",
    "for i in range(num_files):\n",
    "    S+= Facespace(CenteredFaceMatrix[:,i])\n",
    "    avgOmega = S/len(range(num_files))\n",
    "for i in range(num_files):\n",
    "    e = np.linalg.norm(Facespace(CenteredFaceMatrix[:,i])-avgOmega)\n",
    "    if e > epsilon:\n",
    "        epsilon = e"
   ]
  },
  {
   "cell_type": "code",
   "execution_count": 508,
   "metadata": {},
   "outputs": [
    {
     "data": {
      "text/plain": [
       "np.False_"
      ]
     },
     "execution_count": 508,
     "metadata": {},
     "output_type": "execute_result"
    }
   ],
   "source": [
    "\n",
    "#Input = ProcessImage(Image.open(\"32.JPG\"))-MeanFace\n",
    "#Input.shape\n",
    "\n",
    "image=Image.open(\"32.JPG\")\n",
    "Omega = Facespace(ProcessImage(image)-MeanFace)\n",
    "epsilon > np.linalg.norm(Omega-avgOmega)\n"
   ]
  },
  {
   "cell_type": "code",
   "execution_count": null,
   "metadata": {},
   "outputs": [],
   "source": []
  }
 ],
 "metadata": {
  "kernelspec": {
   "display_name": "Python 3",
   "language": "python",
   "name": "python3"
  },
  "language_info": {
   "codemirror_mode": {
    "name": "ipython",
    "version": 3
   },
   "file_extension": ".py",
   "mimetype": "text/x-python",
   "name": "python",
   "nbconvert_exporter": "python",
   "pygments_lexer": "ipython3",
   "version": "3.12.4"
  }
 },
 "nbformat": 4,
 "nbformat_minor": 2
}
