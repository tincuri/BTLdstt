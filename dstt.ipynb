{
 "cells": [
  {
   "cell_type": "markdown",
   "metadata": {},
   "source": [
    "**Import Library**"
   ]
  },
  {
   "cell_type": "code",
   "execution_count": 1,
   "metadata": {},
   "outputs": [],
   "source": [
    "import numpy as np\n",
    "import matplotlib.pyplot as plt\n",
    "import matplotlib.image as im\n",
    "import sympy as sp\n",
    "from PIL import Image, ImageOps\n",
    "import os"
   ]
  },
  {
   "cell_type": "markdown",
   "metadata": {},
   "source": [
    "**Size of Data**"
   ]
  },
  {
   "cell_type": "code",
   "execution_count": 2,
   "metadata": {},
   "outputs": [],
   "source": [
    "#Size of the image\n",
    "Face = Image.open(\"archive\\\\s1\\\\1.pgm\") \n",
    "FaceArray = im.pil_to_array(Face)\n",
    "Height, Width = FaceArray.shape\n",
    "#Number of classes\n",
    "num_class = sum(1 for entry in os.scandir(\"archive\") if not entry.is_file())\n",
    "#Number of files in a class\n",
    "num_files = sum(1 for entry in os.scandir(\"archive\\\\s1\") if entry.is_file())\n",
    "#Total number of files\n",
    "num_total = num_files*num_class"
   ]
  },
  {
   "cell_type": "markdown",
   "metadata": {},
   "source": [
    "**Function**"
   ]
  },
  {
   "cell_type": "code",
   "execution_count": 3,
   "metadata": {},
   "outputs": [
    {
     "data": {
      "text/plain": [
       "(10304, 10)"
      ]
     },
     "execution_count": 3,
     "metadata": {},
     "output_type": "execute_result"
    }
   ],
   "source": [
    "#Process the Image into a flat 1D array\n",
    "def ProcessImage(img):\n",
    "    Grayscale = img.convert('L')\n",
    "    Facematrix = im.pil_to_array(Grayscale)\n",
    "    FlatFaceArray = np.concat(Facematrix,axis=None)/255\n",
    "\n",
    "    return FlatFaceArray\n",
    "\n",
    "#Make the Data Matrix\n",
    "def Datamatrix(clsdir: str, num_files: int):\n",
    "    for i in range(num_files):\n",
    "        imgdir = clsdir +\"\\\\\" + str(i+1) + \".pgm\"\n",
    "    #Import image\n",
    "        Face = Image.open(imgdir)\n",
    "        FlatFaceArray = ProcessImage(Face)\n",
    "    #Combine each 1D array in to a matrix\n",
    "        if i == 0:\n",
    "            FaceMatrix = FlatFaceArray\n",
    "        else:\n",
    "            FaceMatrix = np.column_stack((FaceMatrix,FlatFaceArray))\n",
    "    return FaceMatrix\n",
    "\n",
    "#Make a Data Matrix for a class k\n",
    "def ClassMatrix(k: int):\n",
    "    clsdir = \"archive\\\\s\" + str(k)\n",
    "    return Datamatrix(clsdir, num_files)\n",
    "ClassMatrix(2).shape\n",
    "\n"
   ]
  },
  {
   "cell_type": "markdown",
   "metadata": {},
   "source": [
    "**Make the overall Data Matrix**"
   ]
  },
  {
   "cell_type": "code",
   "execution_count": 4,
   "metadata": {},
   "outputs": [
    {
     "data": {
      "text/plain": [
       "array([[0.18823529, 0.23529412, 0.15294118, ..., 0.49019608, 0.46666667,\n",
       "        0.49019608],\n",
       "       [0.19215686, 0.23529412, 0.17254902, ..., 0.46666667, 0.47058824,\n",
       "        0.48627451],\n",
       "       [0.17647059, 0.24313725, 0.20784314, ..., 0.48627451, 0.47058824,\n",
       "        0.48627451],\n",
       "       ...,\n",
       "       [0.18431373, 0.1254902 , 0.11372549, ..., 0.14117647, 0.34901961,\n",
       "        0.14117647],\n",
       "       [0.18039216, 0.13333333, 0.10196078, ..., 0.15294118, 0.36862745,\n",
       "        0.1372549 ],\n",
       "       [0.18039216, 0.13333333, 0.11372549, ..., 0.15686275, 0.33333333,\n",
       "        0.13333333]])"
      ]
     },
     "execution_count": 4,
     "metadata": {},
     "output_type": "execute_result"
    }
   ],
   "source": [
    "\n",
    "for i in range(num_class):\n",
    "    if i == 0:\n",
    "        FullMatrix = ClassMatrix(i+1)\n",
    "    else:\n",
    "        FullMatrix = np.append(FullMatrix, ClassMatrix(i+1),axis=1)\n",
    "FullMatrix"
   ]
  },
  {
   "cell_type": "code",
   "execution_count": 5,
   "metadata": {},
   "outputs": [
    {
     "name": "stdout",
     "output_type": "stream",
     "text": [
      "[0.3357549  0.33559804 0.33696078 ... 0.30145098 0.2975098  0.2950098 ]\n"
     ]
    }
   ],
   "source": [
    "#The average face\n",
    "MeanFace=np.mean(FullMatrix, axis=1)\n",
    "ColumnMeanFace= MeanFace[:, np.newaxis]\n",
    "print(MeanFace)\n"
   ]
  },
  {
   "cell_type": "markdown",
   "metadata": {},
   "source": [
    "**Calculate the eigenvalues and eigenfaces**"
   ]
  },
  {
   "cell_type": "code",
   "execution_count": 99,
   "metadata": {},
   "outputs": [
    {
     "data": {
      "text/plain": [
       "array([[ 2.12507923e-03,  1.46851506e-02,  1.99294881e-02, ...,\n",
       "         7.24583408e-03,  1.97647330e-03,  1.88152095e-09],\n",
       "       [ 2.11276614e-03,  1.46139383e-02,  2.00092007e-02, ...,\n",
       "         5.62517084e-04, -2.45204094e-03,  9.40760474e-09],\n",
       "       [ 2.14250419e-03,  1.46318643e-02,  1.98385174e-02, ...,\n",
       "        -2.75106052e-03,  3.55081707e-04, -1.74040688e-09],\n",
       "       ...,\n",
       "       [ 7.04005567e-03, -1.05610380e-02,  1.41636829e-02, ...,\n",
       "         4.57939269e-03,  9.57219506e-03, -7.14977960e-09],\n",
       "       [ 6.39096175e-03, -9.70069545e-03,  1.43943595e-02, ...,\n",
       "         1.45672324e-04,  9.97750968e-03, -1.59929281e-08],\n",
       "       [ 7.34479428e-03, -8.81892481e-03,  1.48748947e-02, ...,\n",
       "         2.13634292e-02,  1.05696646e-02, -1.09128215e-08]])"
      ]
     },
     "execution_count": 99,
     "metadata": {},
     "output_type": "execute_result"
    }
   ],
   "source": [
    "#Minus the mean\n",
    "CenteredFullMatrix=FullMatrix  - ColumnMeanFace\n",
    "#Find the Eigenface of the Data\n",
    "BtB=CenteredFullMatrix.T @ CenteredFullMatrix\n",
    "V, S, Vt = np.linalg.svd(BtB)\n",
    "#Find the needed amount of eigenvalues\n",
    "eigsum=np.sum(S)\n",
    "csum=0\n",
    "for i in range(S.shape[0]):\n",
    "    csum +=S[i]\n",
    "    if csum > 0.95*eigsum:\n",
    "        e90=i\n",
    "        break\n",
    "\n",
    "#S_reduced=S[0:e90]\n",
    "#S_matrix = np.zeros(np.diag(S).shape)\n",
    "\n",
    "#S_matrix[:e90, :e90] = np.sqrt(np.diag(S_reduced))\n",
    "S_matrix = np.sqrt(np.diag(S))\n",
    "S_inv=np.linalg.inv(S_matrix)\n",
    "U=CenteredFullMatrix @ V @ S_inv\n",
    "#Reducing the eigenvalues and vector to the needed amount\n",
    "U_reduced = U[:,:e90]\n",
    "S_reduced= np.sqrt(np.diag(S[0:e90]))\n",
    "U "
   ]
  },
  {
   "cell_type": "code",
   "execution_count": 100,
   "metadata": {},
   "outputs": [],
   "source": [
    "#Reconstruct an example Eigenface as a picture\n",
    "Eigenface=U_reduced \n",
    "face = Eigenface[:,1]\n",
    "def ReconstructImage(face):\n",
    "    face = face*255\n",
    "    face = np.split(face, Height)\n",
    "    for i in range(len(face)):\n",
    "        if i == 0:\n",
    "            recface=face[0]\n",
    "        else:\n",
    "            recface = np.vstack((recface,face[i]))\n",
    "    recim = Image.fromarray(recface).convert(\"L\")\n",
    "    recim.save('test.png','PNG')"
   ]
  },
  {
   "cell_type": "code",
   "execution_count": 101,
   "metadata": {},
   "outputs": [
    {
     "name": "stdout",
     "output_type": "stream",
     "text": [
      "[-2.73648789e+02  1.46603398e+02 -3.51737226e+00 -4.41793637e+01\n",
      "  1.40568979e+02  9.68929610e+01  6.84290831e+01 -3.15371240e+01\n",
      " -1.05244235e+02  2.21012483e+01  7.91980893e+01  1.77538447e+01\n",
      " -5.12287164e+01  1.83641236e+01 -2.20737139e+01 -1.89415367e+01\n",
      " -2.30999310e+01 -3.64950306e+00 -5.29395051e+00 -3.76904838e+00\n",
      "  8.01300895e+00 -2.80030037e+01 -7.51249513e+00  3.09527054e+01\n",
      " -6.42469751e+00  3.32126945e+00 -2.26609025e+01  1.14572267e+01\n",
      " -1.29928032e+00  2.61820114e+01 -3.76855009e+00  1.23315852e+00\n",
      "  1.03140649e+01  5.68374748e-01 -2.28533531e+00  3.60679715e+00\n",
      " -9.29181555e+00 -6.30767008e+00 -8.70125061e+00  2.15026772e+01\n",
      " -5.90406464e+00  5.60962979e+00  8.54574990e+00  1.57872646e+01\n",
      " -5.91623639e+00  3.21852060e+01  7.34631185e+00 -1.13594034e+01\n",
      " -1.73744754e+01  1.16950348e+01  2.04316664e+00 -3.90217878e+00\n",
      "  4.05537061e+00 -4.99953499e+00  1.03351960e+01  3.91893078e+00\n",
      " -1.07797536e+00 -1.96167843e+01  7.30043316e+00  3.67324263e-01\n",
      " -5.23256883e+00 -7.97832521e-01 -1.24547321e+01  3.58027707e+00\n",
      "  2.59753219e+00 -1.31381539e+01  1.13923618e+01  5.92917880e+00\n",
      " -5.12562298e-01 -2.59222754e+00  1.90871955e+00  1.11557496e+01\n",
      "  3.26177837e+00 -1.44336344e+01 -5.48654280e-01 -2.21940422e+00\n",
      " -1.27469968e+01  3.01355512e+00  5.60619160e+00  6.02638252e+00\n",
      "  1.42489482e+00  1.15600844e+01  3.20531126e+00 -1.13683254e+00\n",
      "  5.68862152e+00 -9.91407902e-01  3.53697712e+00 -1.02052095e+01\n",
      " -7.25787861e+00  4.68487902e+00 -1.75950230e+00  3.38608822e+00\n",
      "  6.89592077e-01  9.38719497e-01  2.67956508e+00 -2.00693925e+00\n",
      "  8.93236793e+00  5.18217266e-01 -5.18387597e+00  2.47392737e+00\n",
      "  2.23646361e+00  3.34992858e+00 -4.62024120e+00  1.12243009e+00\n",
      " -6.94831877e+00 -6.33780148e+00  9.44602599e+00  5.82756422e+00\n",
      "  1.96655163e+00  2.30364110e+00 -3.01923772e-01  4.41048651e+00\n",
      " -6.58991373e+00  4.88799447e+00  1.33527542e+00 -5.01617387e+00\n",
      " -1.15683913e+00 -1.01906398e+00  5.74769203e-01  4.39890119e-01\n",
      "  3.15162634e+00 -4.23032477e+00  4.79167516e+00 -4.86026179e+00\n",
      " -6.45177881e+00  1.24217264e-01 -2.96346243e+00  1.36422802e+00\n",
      "  2.74734972e+00 -5.93385636e+00  5.22302716e+00  1.09251548e-01\n",
      "  1.95740831e-02  2.62910852e+00  8.45369703e-01  5.91187016e-01\n",
      " -8.86908012e-01 -1.65260459e+00  6.16284746e+00  1.53434480e+00\n",
      "  2.27237606e+00  1.04327688e-01 -3.28293642e+00 -1.69585432e+00\n",
      "  3.39856587e-02  3.84959774e+00 -1.23516755e+00 -3.02090144e+00\n",
      "  1.26322011e+00 -3.51327062e-01 -9.56363463e-01  4.30062665e+00\n",
      "  6.62614870e-01  4.66798841e+00 -7.82448849e-01 -7.40646718e+00\n",
      " -3.90495937e-01  3.48974899e+00 -2.12661443e+00 -1.80293205e+00\n",
      "  1.68492456e-01  1.75059736e+00 -4.81536871e+00  2.95380269e+00\n",
      "  6.75064903e+00 -5.47512726e+00  5.66314736e+00  9.33487036e-01\n",
      "  3.71269884e+00 -2.49401184e+00 -3.31745537e+00 -5.39702138e+00\n",
      " -1.35336182e+00 -7.05624807e-01 -4.85691741e-01  1.00675352e+00\n",
      "  3.10583390e+00 -1.79800869e+00 -2.06251349e-01  6.15619302e+00\n",
      " -3.12653023e+00  1.88197647e-01 -1.19951091e+00  5.21449419e-02\n",
      " -3.98704736e+00  6.33153762e-01  2.96869317e+00  2.78406851e+00\n",
      " -2.96059138e+00]\n",
      "[-2.73648789e+02  1.46603398e+02 -3.51737226e+00 -4.41793637e+01\n",
      "  1.40568979e+02  9.68929610e+01  6.84290831e+01 -3.15371240e+01\n",
      " -1.05244235e+02  2.21012483e+01  7.91980893e+01  1.77538447e+01\n",
      " -5.12287164e+01  1.83641236e+01 -2.20737139e+01 -1.89415367e+01\n",
      " -2.30999310e+01 -3.64950306e+00 -5.29395051e+00 -3.76904838e+00\n",
      "  8.01300895e+00 -2.80030037e+01 -7.51249513e+00  3.09527054e+01\n",
      " -6.42469751e+00  3.32126945e+00 -2.26609025e+01  1.14572267e+01\n",
      " -1.29928032e+00  2.61820114e+01 -3.76855009e+00  1.23315852e+00\n",
      "  1.03140649e+01  5.68374748e-01 -2.28533531e+00  3.60679715e+00\n",
      " -9.29181555e+00 -6.30767008e+00 -8.70125061e+00  2.15026772e+01\n",
      " -5.90406464e+00  5.60962979e+00  8.54574990e+00  1.57872646e+01\n",
      " -5.91623639e+00  3.21852060e+01  7.34631185e+00 -1.13594034e+01\n",
      " -1.73744754e+01  1.16950348e+01  2.04316664e+00 -3.90217878e+00\n",
      "  4.05537061e+00 -4.99953499e+00  1.03351960e+01  3.91893078e+00\n",
      " -1.07797536e+00 -1.96167843e+01  7.30043316e+00  3.67324263e-01\n",
      " -5.23256883e+00 -7.97832521e-01 -1.24547321e+01  3.58027707e+00\n",
      "  2.59753219e+00 -1.31381539e+01  1.13923618e+01  5.92917880e+00\n",
      " -5.12562298e-01 -2.59222754e+00  1.90871955e+00  1.11557496e+01\n",
      "  3.26177837e+00 -1.44336344e+01 -5.48654280e-01 -2.21940422e+00\n",
      " -1.27469968e+01  3.01355512e+00  5.60619160e+00  6.02638252e+00\n",
      "  1.42489482e+00  1.15600844e+01  3.20531126e+00 -1.13683254e+00\n",
      "  5.68862152e+00 -9.91407902e-01  3.53697712e+00 -1.02052095e+01\n",
      " -7.25787861e+00  4.68487902e+00 -1.75950230e+00  3.38608822e+00\n",
      "  6.89592077e-01  9.38719497e-01  2.67956508e+00 -2.00693925e+00\n",
      "  8.93236793e+00  5.18217266e-01 -5.18387597e+00  2.47392737e+00\n",
      "  2.23646361e+00  3.34992858e+00 -4.62024120e+00  1.12243009e+00\n",
      " -6.94831877e+00 -6.33780148e+00  9.44602599e+00  5.82756422e+00\n",
      "  1.96655163e+00  2.30364110e+00 -3.01923772e-01  4.41048651e+00\n",
      " -6.58991373e+00  4.88799447e+00  1.33527542e+00 -5.01617387e+00\n",
      " -1.15683913e+00 -1.01906398e+00  5.74769203e-01  4.39890119e-01\n",
      "  3.15162634e+00 -4.23032477e+00  4.79167516e+00 -4.86026179e+00\n",
      " -6.45177881e+00  1.24217264e-01 -2.96346243e+00  1.36422802e+00\n",
      "  2.74734972e+00 -5.93385636e+00  5.22302716e+00  1.09251548e-01\n",
      "  1.95740831e-02  2.62910852e+00  8.45369703e-01  5.91187016e-01\n",
      " -8.86908012e-01 -1.65260459e+00  6.16284746e+00  1.53434480e+00\n",
      "  2.27237606e+00  1.04327688e-01 -3.28293642e+00 -1.69585432e+00\n",
      "  3.39856587e-02  3.84959774e+00 -1.23516755e+00 -3.02090144e+00\n",
      "  1.26322011e+00 -3.51327062e-01 -9.56363463e-01  4.30062665e+00\n",
      "  6.62614870e-01  4.66798841e+00 -7.82448849e-01 -7.40646718e+00\n",
      " -3.90495937e-01  3.48974899e+00 -2.12661443e+00 -1.80293205e+00\n",
      "  1.68492456e-01  1.75059736e+00 -4.81536871e+00  2.95380269e+00\n",
      "  6.75064903e+00 -5.47512726e+00  5.66314736e+00  9.33487036e-01\n",
      "  3.71269884e+00 -2.49401184e+00 -3.31745537e+00 -5.39702138e+00\n",
      " -1.35336182e+00 -7.05624807e-01 -4.85691741e-01  1.00675352e+00\n",
      "  3.10583390e+00 -1.79800869e+00 -2.06251349e-01  6.15619302e+00\n",
      " -3.12653023e+00  1.88197647e-01 -1.19951091e+00  5.21449419e-02\n",
      " -3.98704736e+00  6.33153762e-01  2.96869317e+00  2.78406851e+00\n",
      " -2.96059138e+00]\n"
     ]
    },
    {
     "data": {
      "text/plain": [
       "(np.float64(40.647275248958145), np.float64(25.909281410455716))"
      ]
     },
     "execution_count": 101,
     "metadata": {},
     "output_type": "execute_result"
    }
   ],
   "source": [
    "#Projecting a vector in to the facespace\n",
    "def Facespace(vector):\n",
    "    Omega = np.array([])\n",
    "    for i in range(e90):\n",
    "        component=U_reduced[:,i] @ vector\n",
    "        Omega = np.append(Omega,[[component]] )\n",
    "    return Omega\n",
    "#Omega= Omega[:, np.newaxis]\n",
    "\n",
    "#the average of a class k in facespace\n",
    "def avgClassOmega(k: int):\n",
    "    S = 0\n",
    "    for i in range(num_files):\n",
    "        S+= Facespace(ClassMatrix(k)[:,i])\n",
    "    print(S)\n",
    "    return S/len(range(num_files))\n",
    "\n",
    "#Find the threshold for the picture to be indentified as a face in class k\n",
    "def Classepsilon(k: int):\n",
    "    Cepsilon = 0\n",
    "    for i in range(num_files):\n",
    "        e=np.linalg.norm(Facespace(ClassMatrix(k)[:,i])-avgClassOmega(k))\n",
    "        if e > Cepsilon:\n",
    "            Cepsilon = e\n",
    "    return Cepsilon*1.2\n",
    "\n",
    "np.linalg.norm(avgClassOmega(34)), np.linalg.norm(Facespace(ClassMatrix(1)[:,1])-avgClassOmega(34))\n"
   ]
  },
  {
   "cell_type": "code",
   "execution_count": 102,
   "metadata": {},
   "outputs": [
    {
     "data": {
      "text/plain": [
       "np.float64(8.54692502122684)"
      ]
     },
     "execution_count": 102,
     "metadata": {},
     "output_type": "execute_result"
    }
   ],
   "source": [
    "\n",
    "#The average of all the data in facespace\n",
    "#S = 0\n",
    "#for i in range(num_total):\n",
    "#    S = S+ Facespace(CenteredFullMatrix[:,i])\n",
    "#avgOmega = S#/len(range(num_files))\n",
    "#Find the threshold for the picture to be identified as a face, let that be epsilon\n",
    "epsilon=0\n",
    "#Array of a facevector in face space\n",
    "def FacespaceArray(facearray):\n",
    "    return Facespace(facearray) @ U_reduced.T\n",
    "\n",
    "for i in range(num_total):\n",
    "    facearray = CenteredFullMatrix[:,i]\n",
    "    e = np.linalg.norm(facearray-FacespaceArray(facearray))\n",
    "    if e > epsilon:\n",
    "        epsilon = e\n",
    "#Let the threshold be 2epsilon\n",
    "epsilon = 2*epsilon\n",
    "epsilon\n",
    "#Facespace(ClassMatrix(2)[:,1]).shape"
   ]
  },
  {
   "cell_type": "markdown",
   "metadata": {},
   "source": [
    "**Face recognization**"
   ]
  },
  {
   "cell_type": "code",
   "execution_count": 104,
   "metadata": {},
   "outputs": [
    {
     "data": {
      "text/plain": [
       "(189,)"
      ]
     },
     "execution_count": 104,
     "metadata": {},
     "output_type": "execute_result"
    }
   ],
   "source": [
    "#ball = np.array([])\n",
    "#for i in range(num_class):\n",
    "#    ball = np.append(ball,Classepsilon(i+1))\n",
    "#ball\n",
    "# \n",
    "Facespace(CenteredFullMatrix[:,1]).shape\n"
   ]
  },
  {
   "cell_type": "code",
   "execution_count": 105,
   "metadata": {},
   "outputs": [],
   "source": [
    "\n",
    "#Input = ProcessImage(Image.open(\"32.JPG\"))-MeanFace\n",
    "#Input.shape\n",
    "#Let the image that need to be specify is input\n",
    "def Classify(imgdir: str ):\n",
    "    image=Image.open(imgdir)\n",
    "    facearray = ProcessImage(image)-MeanFace\n",
    "    dist = np.linalg.norm(facearray - FacespaceArray(facearray))\n",
    "    if epsilon > dist:\n",
    "        print(\"this image contains a face\")\n",
    "    else: \n",
    "        print(\"this image does not contain a face\")\n",
    "    print(dist)\n"
   ]
  },
  {
   "cell_type": "code",
   "execution_count": 106,
   "metadata": {},
   "outputs": [
    {
     "data": {
      "text/plain": [
       "(112, 92)"
      ]
     },
     "execution_count": 106,
     "metadata": {},
     "output_type": "execute_result"
    }
   ],
   "source": [
    "Height, Width"
   ]
  },
  {
   "cell_type": "code",
   "execution_count": null,
   "metadata": {},
   "outputs": [
    {
     "name": "stdout",
     "output_type": "stream",
     "text": [
      "this image does not contain a face\n",
      "8.777071572728351\n"
     ]
    }
   ],
   "source": [
    "Classify(\"18.JPG\")\n",
    "#troll"
   ]
  },
  {
   "cell_type": "code",
   "execution_count": 124,
   "metadata": {},
   "outputs": [],
   "source": [
    "ReconstructImage(FacespaceArray(ProcessImage(Image.open(\"18.JPG\"))))"
   ]
  },
  {
   "cell_type": "code",
   "execution_count": 120,
   "metadata": {},
   "outputs": [],
   "source": [
    "ReconstructImage(FacespaceArray(CenteredFullMatrix[:,4]))\n",
    "Image.open(\"archive\\\\s1\\\\5.pgm\").show()"
   ]
  },
  {
   "cell_type": "code",
   "execution_count": null,
   "metadata": {},
   "outputs": [],
   "source": []
  }
 ],
 "metadata": {
  "kernelspec": {
   "display_name": "Python 3",
   "language": "python",
   "name": "python3"
  },
  "language_info": {
   "codemirror_mode": {
    "name": "ipython",
    "version": 3
   },
   "file_extension": ".py",
   "mimetype": "text/x-python",
   "name": "python",
   "nbconvert_exporter": "python",
   "pygments_lexer": "ipython3",
   "version": "3.12.4"
  }
 },
 "nbformat": 4,
 "nbformat_minor": 2
}
