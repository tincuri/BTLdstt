{
 "cells": [
  {
   "cell_type": "markdown",
   "metadata": {},
   "source": [
    "**Import Library**"
   ]
  },
  {
   "cell_type": "code",
   "execution_count": 283,
   "metadata": {},
   "outputs": [],
   "source": [
    "import numpy as np\n",
    "import matplotlib.pyplot as plt\n",
    "import matplotlib.image as im\n",
    "import sympy as sp\n",
    "from PIL import Image, ImageOps\n",
    "import os"
   ]
  },
  {
   "cell_type": "markdown",
   "metadata": {},
   "source": [
    "**Size of Data**"
   ]
  },
  {
   "cell_type": "code",
   "execution_count": 309,
   "metadata": {},
   "outputs": [],
   "source": [
    "#Size of the image\n",
    "Face = Image.open(\"archive\\\\s1\\\\1.pgm\") \n",
    "FaceArray = im.pil_to_array(Face)\n",
    "Height, Width = FaceArray.shape\n",
    "#Number of classes\n",
    "num_class = sum(1 for entry in os.scandir(\"archive\") if not entry.is_file())\n",
    "#Number of files in a class\n",
    "num_files = sum(1 for entry in os.scandir(\"archive\\\\s1\") if entry.is_file())\n",
    "#Total number of files\n",
    "num_total = num_files*num_class"
   ]
  },
  {
   "cell_type": "markdown",
   "metadata": {},
   "source": [
    "**Function**"
   ]
  },
  {
   "cell_type": "code",
   "execution_count": 310,
   "metadata": {},
   "outputs": [],
   "source": [
    "#Process the Image into a flat 1D array\n",
    "def ProcessImage(img):\n",
    "    Grayscale = img.convert('L')\n",
    "    Facematrix = im.pil_to_array(Grayscale)\n",
    "    FlatFaceArray = np.concat(Facematrix,axis=None)/255\n",
    "\n",
    "    return FlatFaceArray\n",
    "\n",
    "#Make the Data Matrix\n",
    "def Datamatrix(clsdir: str, num_files: int):\n",
    "    for i in range(num_files):\n",
    "        imgdir = clsdir +\"\\\\\" + str(i+1) + \".pgm\"\n",
    "    #Import image\n",
    "        Face = Image.open(imgdir)\n",
    "        FlatFaceArray = ProcessImage(Face)\n",
    "    #Combine each 1D array in to a matrix\n",
    "        if i == 0:\n",
    "            FaceMatrix = FlatFaceArray\n",
    "        else:\n",
    "            FaceMatrix = np.column_stack((FaceMatrix,FlatFaceArray))\n",
    "    return FaceMatrix\n",
    "\n",
    "#Make a Data Matrix for a class k\n",
    "def ClassMatrix(k: int):\n",
    "    clsdir = \"archive\\\\s\" + str(k)\n",
    "    return Datamatrix(clsdir, num_files)\n",
    "ClassMatrix(2).shape\n",
    "\n",
    "#More efficent way to calculate the svd of the datamatrix\n",
    "def svd(X):\n",
    "    XtX = X.T @ X\n",
    "    V, S, Vt = np.linalg.svd(XtX)\n",
    "    S_matrix = np.sqrt(np.diag(S))\n",
    "    S_inv = np.linalg.inv(S_matrix)\n",
    "    U = X @ V @ S_inv\n",
    "    return U, np.sqrt(S), Vt"
   ]
  },
  {
   "cell_type": "markdown",
   "metadata": {},
   "source": [
    "**Make the overall Data Matrix**"
   ]
  },
  {
   "cell_type": "code",
   "execution_count": 311,
   "metadata": {},
   "outputs": [
    {
     "data": {
      "text/plain": [
       "(10304, 400)"
      ]
     },
     "execution_count": 311,
     "metadata": {},
     "output_type": "execute_result"
    }
   ],
   "source": [
    "\n",
    "for i in range(num_class):\n",
    "    if i == 0:\n",
    "        FullMatrix = ClassMatrix(i+1)\n",
    "    else:\n",
    "        FullMatrix = np.append(FullMatrix, ClassMatrix(i+1),axis=1)\n",
    "FullMatrix.shape"
   ]
  },
  {
   "cell_type": "code",
   "execution_count": 312,
   "metadata": {},
   "outputs": [
    {
     "name": "stdout",
     "output_type": "stream",
     "text": [
      "[0.3357549  0.33559804 0.33696078 ... 0.30145098 0.2975098  0.2950098 ]\n"
     ]
    }
   ],
   "source": [
    "#The average face\n",
    "MeanFace=np.mean(FullMatrix, axis=1)\n",
    "ColumnMeanFace= MeanFace[:, np.newaxis]\n",
    "print(MeanFace)\n"
   ]
  },
  {
   "cell_type": "markdown",
   "metadata": {},
   "source": [
    "**Calculate the eigenvalues and eigenfaces**"
   ]
  },
  {
   "cell_type": "code",
   "execution_count": 313,
   "metadata": {},
   "outputs": [
    {
     "data": {
      "text/plain": [
       "297"
      ]
     },
     "execution_count": 313,
     "metadata": {},
     "output_type": "execute_result"
    }
   ],
   "source": [
    "#Minus the mean\n",
    "CenteredFullMatrix=FullMatrix  - ColumnMeanFace\n",
    "#Find the Eigenface of the Data\n",
    "U, S, Vt = svd(CenteredFullMatrix)\n",
    "#Find the needed amount of eigenvalues\n",
    "eigsum=np.sum(S)\n",
    "csum=0\n",
    "for i in range(S.shape[0]):\n",
    "    csum +=S[i]\n",
    "    if csum > 0.9*eigsum:\n",
    "        e90=i\n",
    "        break\n",
    "\n",
    "#S_matrix = np.zeros(np.diag(S).shape)\n",
    "#S_matrix[:e90, :e90] = np.sqrt(np.diag(S_reduced))\n",
    "#Reducing the eigenvalues and vector to the needed amount\n",
    "U_reduced = U[:,:e90]\n",
    "S_reduced= np.sqrt(np.diag(S[0:e90]))\n",
    "e90\n"
   ]
  },
  {
   "cell_type": "code",
   "execution_count": 314,
   "metadata": {},
   "outputs": [
    {
     "data": {
      "text/plain": [
       "(297,)"
      ]
     },
     "execution_count": 314,
     "metadata": {},
     "output_type": "execute_result"
    }
   ],
   "source": [
    "#Projecting a vector in to the facespace\n",
    "def Facespace(vector):\n",
    "    return U_reduced.T @ vector\n",
    "\n",
    "#the average of a class k in facespace\n",
    "def avgClassOmega(k: int):\n",
    "    S = 0\n",
    "    for i in range(num_files):\n",
    "        S+= Facespace(ClassMatrix(k)[:,i])\n",
    "    print(S)\n",
    "    return S/len(range(num_files))\n",
    "\n",
    "#Find the threshold for the picture to be indentified as a face in class k\n",
    "def Classepsilon(k: int):\n",
    "    Cepsilon = 0\n",
    "    for i in range(num_files):\n",
    "        e=np.linalg.norm(Facespace(ClassMatrix(k)[:,i])-avgClassOmega(k))\n",
    "        if e > Cepsilon:\n",
    "            Cepsilon = e\n",
    "    return Cepsilon*1.2\n",
    "\n",
    "#np.linalg.norm(avgClassOmega(34)), np.linalg.norm(Facespace(ClassMatrix(1)[:,1])-avgClassOmega(34))\n",
    "Facespace(CenteredFullMatrix[:,1]).shape"
   ]
  },
  {
   "cell_type": "code",
   "execution_count": 315,
   "metadata": {},
   "outputs": [
    {
     "data": {
      "text/plain": [
       "np.float64(11.767476313988528)"
      ]
     },
     "execution_count": 315,
     "metadata": {},
     "output_type": "execute_result"
    }
   ],
   "source": [
    "\n",
    "#The average of all the data in facespace\n",
    "#S = 0\n",
    "#for i in range(num_total):\n",
    "#    S = S+ Facespace(CenteredFullMatrix[:,i])\n",
    "#avgOmega = S#/len(range(num_files))\n",
    "#Find the threshold for the picture to be identified as a face, let that be epsilon\n",
    "epsilon=0\n",
    "#Array of a facevector after being transform in facespace\n",
    "def Ffacearray(facearray):\n",
    "    return Facespace(facearray) @ U_reduced.T\n",
    "for i in range(num_total):\n",
    "    facearray = CenteredFullMatrix[:,i]\n",
    "    e = np.linalg.norm(facearray-Ffacearray(facearray))\n",
    "    if e > epsilon:\n",
    "        epsilon = e\n",
    "#Let the threshold be 2epsilon\n",
    "epsilon = 4*epsilon\n",
    "epsilon\n",
    "#Facespace(ClassMatrix(2)[:,1]).shape"
   ]
  },
  {
   "cell_type": "markdown",
   "metadata": {},
   "source": [
    "**Face recognization**"
   ]
  },
  {
   "cell_type": "code",
   "execution_count": 316,
   "metadata": {},
   "outputs": [],
   "source": [
    "\n",
    "#Input = ProcessImage(Image.open(\"32.JPG\"))-MeanFace\n",
    "#Input.shape\n",
    "#Let the image that need to be specify is input\n",
    "def Classify(imgdir: str ):\n",
    "    image=Image.open(imgdir)\n",
    "    facearray = ProcessImage(image)-MeanFace\n",
    "    dist = np.linalg.norm(facearray - Ffacearray(facearray))\n",
    "    if epsilon > dist:\n",
    "        print(\"this image contains a face\")\n",
    "    else: \n",
    "        print(\"this image does not contain a face\")\n",
    "    print(dist)\n",
    "\n"
   ]
  },
  {
   "cell_type": "code",
   "execution_count": 317,
   "metadata": {},
   "outputs": [
    {
     "data": {
      "text/plain": [
       "(112, 92)"
      ]
     },
     "execution_count": 317,
     "metadata": {},
     "output_type": "execute_result"
    }
   ],
   "source": [
    "Height, Width"
   ]
  },
  {
   "cell_type": "code",
   "execution_count": 318,
   "metadata": {},
   "outputs": [
    {
     "name": "stdout",
     "output_type": "stream",
     "text": [
      "this image contains a face\n",
      "10.07467330921246\n"
     ]
    }
   ],
   "source": [
    "Classify(\"input.JPG\")\n",
    "#troll"
   ]
  },
  {
   "cell_type": "markdown",
   "metadata": {},
   "source": [
    "# Fisher face"
   ]
  },
  {
   "cell_type": "code",
   "execution_count": 319,
   "metadata": {},
   "outputs": [],
   "source": [
    "#SVD ma trận data ban đầu\n",
    "U, S, V = svd(CenteredFullMatrix)"
   ]
  },
  {
   "cell_type": "markdown",
   "metadata": {},
   "source": [
    "**Ta lấy PCA ma trận về N-c chiều**"
   ]
  },
  {
   "cell_type": "code",
   "execution_count": 320,
   "metadata": {},
   "outputs": [],
   "source": [
    "#Lấy số chiều cần cho LDA\n",
    "U_reduced = U[:,:num_total - num_class]\n",
    "#Chuyển toàn bộ ma trận data về Facespace này\n",
    "FacespaceMatrix = U_reduced.T @ FullMatrix\n",
    "FacespaceMatrix.shape\n",
    "#\n",
    "ColumnMeanFace = np.mean(FullMatrix,axis=1)[:, np.newaxis]"
   ]
  },
  {
   "cell_type": "markdown",
   "metadata": {},
   "source": [
    "Tìm Sb và Sw trong Facespace"
   ]
  },
  {
   "cell_type": "code",
   "execution_count": 321,
   "metadata": {},
   "outputs": [
    {
     "data": {
      "text/plain": [
       "(360, 10)"
      ]
     },
     "execution_count": 321,
     "metadata": {},
     "output_type": "execute_result"
    }
   ],
   "source": [
    "def FaceClassMatrix(k: int):\n",
    "    return FacespaceMatrix[:,num_files*(k-1):num_files*k]\n",
    "FaceClassMatrix(1).shape\n"
   ]
  },
  {
   "cell_type": "code",
   "execution_count": null,
   "metadata": {},
   "outputs": [
    {
     "data": {
      "text/plain": [
       "np.int64(39)"
      ]
     },
     "execution_count": 326,
     "metadata": {},
     "output_type": "execute_result"
    }
   ],
   "source": [
    "#Mean của một class\n",
    "def MeanClassFace(k: int):\n",
    "    MeanFace=np.mean(ClassMatrix(k), axis=1)\n",
    "    return MeanFace[:, np.newaxis]\n",
    "#Tìm Sb\n",
    "for i in range(num_class):\n",
    "    if i == 0:\n",
    "        Xb = MeanClassFace(i+1) - ColumnMeanFace\n",
    "    else:\n",
    "        Xb = np.column_stack((Xb,MeanClassFace(i+1)-ColumnMeanFace))\n",
    "Xb2 = U_reduced.T @ Xb\n",
    "Sb = num_files * Xb2 @ Xb2.T\n",
    "Sb.shape"
   ]
  },
  {
   "cell_type": "code",
   "execution_count": null,
   "metadata": {},
   "outputs": [
    {
     "data": {
      "text/plain": [
       "np.int64(360)"
      ]
     },
     "execution_count": 327,
     "metadata": {},
     "output_type": "execute_result"
    }
   ],
   "source": [
    "for i in range(num_class):\n",
    "    if i == 0:\n",
    "        Xw = ClassMatrix(i+1) - MeanClassFace(i+1)\n",
    "        Xw2 = U_reduced.T @ Xw\n",
    "        Sw = Xw2 @ Xw2.T\n",
    "    else:\n",
    "        Xw = ClassMatrix(i+1) - MeanClassFace(i+1)\n",
    "        Xw2 = U_reduced.T @ Xw\n",
    "        Sw += Xw2 @ Xw2.T\n",
    "Sw.shape"
   ]
  },
  {
   "cell_type": "code",
   "execution_count": 328,
   "metadata": {},
   "outputs": [],
   "source": [
    "#LDA\n",
    "U, S, Vt = np.linalg.svd(np.linalg.inv(Sw) @ Sb)\n",
    "#Giảm các ma trận về số chiều cần dùng (rank của Sb)\n",
    "dim = np.linalg.matrix_rank(Sb)\n",
    "U_ff= U[:, dim] \n",
    "S_ff= np.diag(S[0:dim])"
   ]
  },
  {
   "cell_type": "code",
   "execution_count": null,
   "metadata": {},
   "outputs": [
    {
     "data": {
      "text/plain": [
       "<matplotlib.image.AxesImage at 0x11cbe2a8f20>"
      ]
     },
     "execution_count": 185,
     "metadata": {},
     "output_type": "execute_result"
    },
    {
     "data": {
      "image/png": "[encoded data removed]",
      "text/plain": [
       "<Figure size 640x480 with 1 Axes>"
      ]
     },
     "metadata": {},
     "output_type": "display_data"
    }
   ],
   "source": [
    "plt.figure()\n",
    "img = ProcessImage(Image.open(\"18.JPG\"))\n",
    "#img = CenteredFullMatrix[:,3]\n",
    "plt.imshow(img.reshape((Height, Width)), cmap=plt.cm.gray)\n",
    "plt.imshow(Ffacearray(img).reshape((Height, Width)),cmap=plt.cm.gray)\n",
    "#ProcessImage(Image.open(\"input.JPG\"))\n"
   ]
  },
  {
   "cell_type": "code",
   "execution_count": null,
   "metadata": {},
   "outputs": [
    {
     "data": {
      "text/plain": [
       "<matplotlib.image.AxesImage at 0x11cbe2b64b0>"
      ]
     },
     "execution_count": 186,
     "metadata": {},
     "output_type": "execute_result"
    },
    {
     "data": {
      "image/png": "[encoded data removed]",
      "text/plain": [
       "<Figure size 640x480 with 1 Axes>"
      ]
     },
     "metadata": {},
     "output_type": "display_data"
    }
   ],
   "source": [
    "plt.imshow(U[:,0].reshape((Height,Width)),cmap=plt.cm.gray)"
   ]
  },
  {
   "cell_type": "code",
   "execution_count": null,
   "metadata": {},
   "outputs": [
    {
     "data": {
      "image/png": "[encoded data removed]",
      "text/plain": [
       "<Figure size 640x480 with 1 Axes>"
      ]
     },
     "metadata": {},
     "output_type": "display_data"
    },
    {
     "data": {
      "image/png": "[encoded data removed]",
      "text/plain": [
       "<Figure size 640x480 with 1 Axes>"
      ]
     },
     "metadata": {},
     "output_type": "display_data"
    }
   ],
   "source": [
    "def plot_cumulative_sum(Sr):\n",
    "    plt.clf\n",
    "    plt.figure(1)\n",
    "    plt.semilogy(np.diag(Sr))\n",
    "    plt.title('Singular Values')\n",
    "    plt.show()\n",
    "\n",
    "    plt.figure(1)\n",
    "    plt.plot(np.cumsum(np.diag(Sr))/np.sum(np.diag(Sr)))\n",
    "    plt.title('Singular Values: Cumulative Sum')\n",
    "    plt.show()\n",
    "plot_cumulative_sum(S)"
   ]
  },
  {
   "cell_type": "code",
   "execution_count": null,
   "metadata": {},
   "outputs": [
    {
     "data": {
      "text/plain": [
       "array([1.31635097e+02, 1.12694860e+02, 8.20462459e+01, 7.40923770e+01,\n",
       "       7.09094818e+01, 5.75215914e+01, 4.90718030e+01, 4.78932936e+01,\n",
       "       4.39409506e+01, 4.21181224e+01, 3.76284573e+01, 3.70884865e+01,\n",
       "       3.31833661e+01, 3.24067559e+01, 3.09685794e+01, 2.99834540e+01,\n",
       "       2.93602686e+01, 2.88260511e+01, 2.69020978e+01, 2.61580114e+01,\n",
       "       2.56945811e+01, 2.50657855e+01, 2.41575328e+01, 2.31321409e+01,\n",
       "       2.28172297e+01, 2.20383731e+01, 2.17630593e+01, 2.17076883e+01,\n",
       "       2.09966159e+01, 2.07162230e+01, 2.05477594e+01, 1.98186761e+01,\n",
       "       1.97025172e+01, 1.93448664e+01, 1.90689206e+01, 1.85678272e+01,\n",
       "       1.82909065e+01, 1.81945866e+01, 1.76720468e+01, 1.71881793e+01,\n",
       "       1.70477939e+01, 1.69134554e+01, 1.66511708e+01, 1.65274243e+01,\n",
       "       1.62371683e+01, 1.59555606e+01, 1.58174828e+01, 1.56503323e+01,\n",
       "       1.55194075e+01, 1.53660474e+01, 1.52221615e+01, 1.47034455e+01,\n",
       "       1.46035709e+01, 1.44961218e+01, 1.44591169e+01, 1.42159764e+01,\n",
       "       1.40446485e+01, 1.38671551e+01, 1.37827434e+01, 1.37186323e+01,\n",
       "       1.35127481e+01, 1.33189478e+01, 1.31223424e+01, 1.29685752e+01,\n",
       "       1.27967280e+01, 1.27233926e+01, 1.26433110e+01, 1.24764714e+01,\n",
       "       1.23291797e+01, 1.21607572e+01, 1.20958334e+01, 1.20465617e+01,\n",
       "       1.19821885e+01, 1.18236081e+01, 1.17935045e+01, 1.17048516e+01,\n",
       "       1.16602120e+01, 1.15219907e+01, 1.14953031e+01, 1.14886311e+01,\n",
       "       1.13891142e+01, 1.12446977e+01, 1.12167098e+01, 1.10671412e+01,\n",
       "       1.09964198e+01, 1.09131908e+01, 1.08676267e+01, 1.07384550e+01,\n",
       "       1.06745923e+01, 1.06477807e+01, 1.06246255e+01, 1.04924698e+01,\n",
       "       1.04634907e+01, 1.03777762e+01, 1.03087167e+01, 1.02193784e+01,\n",
       "       1.01811433e+01, 1.00555163e+01, 1.00052778e+01, 9.86971229e+00,\n",
       "       9.85248954e+00, 9.78094224e+00, 9.71358756e+00, 9.68280343e+00,\n",
       "       9.63052717e+00, 9.59137895e+00, 9.51778146e+00, 9.44998005e+00,\n",
       "       9.42934155e+00, 9.37505296e+00, 9.30610706e+00, 9.27041393e+00,\n",
       "       9.25185517e+00, 9.11797794e+00, 9.07713576e+00, 9.06358162e+00,\n",
       "       8.98195914e+00, 8.91668454e+00, 8.89784734e+00, 8.86272664e+00,\n",
       "       8.84553193e+00, 8.79536833e+00, 8.72277400e+00, 8.69210419e+00,\n",
       "       8.63560925e+00, 8.60333536e+00, 8.58189261e+00, 8.52858641e+00,\n",
       "       8.50927718e+00, 8.44840535e+00, 8.39647072e+00, 8.38947978e+00,\n",
       "       8.35977476e+00, 8.28573585e+00, 8.28201809e+00, 8.23601225e+00,\n",
       "       8.17994633e+00, 8.14101801e+00, 8.11859268e+00, 8.09494294e+00,\n",
       "       8.07157893e+00, 8.01639323e+00, 8.00144063e+00, 7.99195909e+00,\n",
       "       7.93271544e+00, 7.91109950e+00, 7.86741239e+00, 7.84306781e+00,\n",
       "       7.80432338e+00, 7.79257488e+00, 7.74876519e+00, 7.69715331e+00,\n",
       "       7.67130875e+00, 7.65617465e+00, 7.63107113e+00, 7.59772411e+00,\n",
       "       7.57404597e+00, 7.53134441e+00, 7.49023533e+00, 7.48103912e+00,\n",
       "       7.43827520e+00, 7.40350333e+00, 7.38086731e+00, 7.36568314e+00,\n",
       "       7.33609808e+00, 7.33076717e+00, 7.28260286e+00, 7.25253763e+00,\n",
       "       7.22138914e+00, 7.18101947e+00, 7.17607711e+00, 7.14222162e+00,\n",
       "       7.12673832e+00, 7.07990124e+00, 7.04128875e+00, 7.03283536e+00,\n",
       "       6.99694032e+00, 6.98690054e+00, 6.96121657e+00, 6.94689761e+00,\n",
       "       6.90701798e+00, 6.85597170e+00, 6.82648450e+00, 6.81102072e+00,\n",
       "       6.79872177e+00, 6.76775758e+00, 6.73562893e+00, 6.71713301e+00,\n",
       "       6.70106143e+00, 6.66906089e+00, 6.66155843e+00, 6.63943713e+00,\n",
       "       6.63159740e+00, 6.59891769e+00, 6.53429942e+00, 6.51327256e+00,\n",
       "       6.47970305e+00, 6.45915372e+00, 6.44231677e+00, 6.42003121e+00,\n",
       "       6.40780693e+00, 6.37505167e+00, 6.35239443e+00, 6.33788570e+00,\n",
       "       6.30988960e+00, 6.30022114e+00, 6.28366209e+00, 6.25642117e+00,\n",
       "       6.22589181e+00, 6.21680028e+00, 6.16935912e+00, 6.15092973e+00,\n",
       "       6.13876289e+00, 6.12671818e+00, 6.10485677e+00, 6.08869972e+00,\n",
       "       6.07785598e+00, 6.03793059e+00, 6.02692073e+00, 5.99728778e+00,\n",
       "       5.96773849e+00, 5.93694859e+00, 5.93228093e+00, 5.92862959e+00,\n",
       "       5.90094370e+00, 5.87007380e+00, 5.85298436e+00, 5.84816560e+00,\n",
       "       5.83702869e+00, 5.80528240e+00, 5.78734301e+00, 5.77128728e+00,\n",
       "       5.74916084e+00, 5.72134477e+00, 5.70503802e+00, 5.67679637e+00,\n",
       "       5.65936267e+00, 5.64695118e+00, 5.62804240e+00, 5.61939624e+00,\n",
       "       5.61014868e+00, 5.58356862e+00, 5.56083964e+00, 5.55430966e+00,\n",
       "       5.52329280e+00, 5.51764947e+00, 5.49527351e+00, 5.47793237e+00,\n",
       "       5.43830476e+00, 5.42877950e+00, 5.41690151e+00, 5.38141703e+00,\n",
       "       5.37682928e+00, 5.35947583e+00, 5.33836577e+00, 5.33351151e+00,\n",
       "       5.31849899e+00, 5.31066523e+00, 5.27975708e+00, 5.27388952e+00,\n",
       "       5.26282481e+00, 5.24298104e+00, 5.21526361e+00, 5.19953754e+00,\n",
       "       5.18029256e+00, 5.16199569e+00, 5.14576034e+00, 5.13475547e+00,\n",
       "       5.12067485e+00, 5.08939146e+00, 5.08625027e+00, 5.06611212e+00,\n",
       "       5.06118073e+00, 5.03444340e+00, 5.01472282e+00, 4.99894224e+00,\n",
       "       4.95592621e+00, 4.93576103e+00, 4.92344047e+00, 4.91454730e+00,\n",
       "       4.90407581e+00, 4.87980905e+00, 4.87237719e+00, 4.87093866e+00,\n",
       "       4.84094875e+00, 4.82351019e+00, 4.80710789e+00, 4.79102367e+00,\n",
       "       4.78315395e+00, 4.76685902e+00, 4.75854699e+00, 4.74411546e+00,\n",
       "       4.73214233e+00, 4.72150316e+00, 4.70104198e+00, 4.67674649e+00,\n",
       "       4.67231633e+00, 4.64497081e+00, 4.63227376e+00, 4.61581567e+00,\n",
       "       4.59373459e+00, 4.59319775e+00, 4.57817095e+00, 4.56525533e+00,\n",
       "       4.52740787e+00, 4.51982329e+00, 4.49416177e+00, 4.49081834e+00,\n",
       "       4.46409992e+00, 4.45268852e+00, 4.42638595e+00, 4.41618505e+00,\n",
       "       4.38721650e+00, 4.38261331e+00, 4.37256179e+00, 4.35983773e+00,\n",
       "       4.33970387e+00, 4.31902906e+00, 4.31451715e+00, 4.29837714e+00,\n",
       "       4.29649314e+00, 4.27892575e+00, 4.26006397e+00, 4.24596648e+00,\n",
       "       4.22800640e+00, 4.22390437e+00, 4.21151566e+00, 4.18459268e+00,\n",
       "       4.17189783e+00, 4.15923851e+00, 4.14895939e+00, 4.13304043e+00,\n",
       "       4.13070142e+00, 4.12495022e+00, 4.08366759e+00, 4.07893807e+00,\n",
       "       4.06349645e+00, 4.04178118e+00, 4.03491464e+00, 4.02479973e+00,\n",
       "       4.00348133e+00, 3.99922004e+00, 3.98233049e+00, 3.96832450e+00,\n",
       "       3.95653777e+00, 3.94179419e+00, 3.92884819e+00, 3.92630624e+00,\n",
       "       3.88870165e+00, 3.87677131e+00, 3.86564300e+00, 3.84838676e+00,\n",
       "       3.84190264e+00, 3.83636990e+00, 3.82247418e+00, 3.80315978e+00,\n",
       "       3.78343763e+00, 3.76284607e+00, 3.75541214e+00, 3.71667178e+00,\n",
       "       3.70982103e+00, 3.70276735e+00, 3.67944768e+00, 3.66581653e+00,\n",
       "       3.63493716e+00, 3.62108452e+00, 3.59901492e+00, 3.57011566e+00,\n",
       "       3.56586388e+00, 3.53284426e+00, 3.52326101e+00, 3.50980403e+00,\n",
       "       3.48883849e+00, 3.48765260e+00, 3.46122419e+00, 3.43930425e+00,\n",
       "       3.42053551e+00, 3.40056320e+00, 3.38638013e+00, 3.36271784e+00,\n",
       "       3.35565935e+00, 3.30866215e+00, 3.27326625e+00, 3.25882483e+00,\n",
       "       3.22726377e+00, 3.21574683e+00, 3.16359249e+00, 3.15660184e+00,\n",
       "       3.10451142e+00, 3.06283888e+00, 3.04592250e+00, 3.00556039e+00,\n",
       "       2.92413457e+00, 2.87006858e+00, 2.83672487e+00, 2.75232836e+00,\n",
       "       2.71243072e+00, 2.58187758e+00, 2.54452886e+00, 2.95033395e-07])"
      ]
     },
     "execution_count": 188,
     "metadata": {},
     "output_type": "execute_result"
    }
   ],
   "source": [
    "S"
   ]
  }
 ],
 "metadata": {
  "kernelspec": {
   "display_name": "Python 3",
   "language": "python",
   "name": "python3"
  },
  "language_info": {
   "codemirror_mode": {
    "name": "ipython",
    "version": 3
   },
   "file_extension": ".py",
   "mimetype": "text/x-python",
   "name": "python",
   "nbconvert_exporter": "python",
   "pygments_lexer": "ipython3",
   "version": "3.12.4"
  }
 },
 "nbformat": 4,
 "nbformat_minor": 2
}
