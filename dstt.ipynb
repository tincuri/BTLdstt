{
 "cells": [
  {
   "cell_type": "markdown",
   "metadata": {},
   "source": [
    "**Import Library**"
   ]
  },
  {
   "cell_type": "code",
   "execution_count": 2,
   "metadata": {},
   "outputs": [],
   "source": [
    "import numpy as np\n",
    "import matplotlib.pyplot as plt\n",
    "import matplotlib.image as im\n",
    "import sympy as sp\n",
    "from PIL import Image, ImageOps\n",
    "import os"
   ]
  },
  {
   "cell_type": "markdown",
   "metadata": {},
   "source": [
    "**Function**"
   ]
  },
  {
   "cell_type": "code",
   "execution_count": 47,
   "metadata": {},
   "outputs": [],
   "source": [
    "#Process the Image into a flat 1D array\n",
    "def ProcessImage(img):\n",
    "    Grascale = ImageOps.grayscale(img)\n",
    "    Facematrix = im.pil_to_array(Grascale)\n",
    "    FlatFaceArray = np.concat(Facematrix,axis=None)\n",
    "    return FlatFaceArray\n",
    "\n",
    "#Make the Data Matrix\n",
    "\n",
    "def Datamatrix(clsdir: str, num_files: int):\n",
    "    for i in range(num_files):\n",
    "        imgdir = clsdir +\"\\\\\" + str(i+1) + \".pgm\"\n",
    "    #Nhap hinh anh\n",
    "        Face = Image.open(imgdir)\n",
    "    #Process hinh anh\n",
    "        FlatFaceArray = ProcessImage(Face)\n",
    "        if i == 0:\n",
    "            FaceMatrix = FlatFaceArray\n",
    "        else:\n",
    "            FaceMatrix = np.column_stack((FaceMatrix,FlatFaceArray))\n",
    "    return FaceMatrix\n",
    "\n",
    "#Make a Data Matrix for a class k\n",
    "def ClassMatrix(k: int):\n",
    "    clsdir = \"archive\\\\s\" + str(k)\n",
    "    num_files = sum(1 for entry in os.scandir(clsdir) if entry.is_file())\n",
    "    return Datamatrix(clsdir, num_files)\n",
    "ClassMatrix(2).shape\n",
    "\n",
    "#number of class\n",
    "num_class = sum(1 for entry in os.scandir(\"archive\") if not entry.is_file())\n"
   ]
  },
  {
   "cell_type": "markdown",
   "metadata": {},
   "source": [
    "**Size of the data**"
   ]
  },
  {
   "cell_type": "code",
   "execution_count": 42,
   "metadata": {},
   "outputs": [],
   "source": [
    "imgdir = \"archive\\\\s1\\\\1.pgm\"\n",
    "Face= Image.open(imgdir)\n",
    "FaceArray = im.pil_to_array(Face)\n",
    "Height, Width = FaceArray.shape\n"
   ]
  },
  {
   "cell_type": "markdown",
   "metadata": {},
   "source": [
    "**Make the overall Data Matrix**"
   ]
  },
  {
   "cell_type": "code",
   "execution_count": 39,
   "metadata": {},
   "outputs": [
    {
     "data": {
      "text/plain": [
       "(10304, 400)"
      ]
     },
     "execution_count": 39,
     "metadata": {},
     "output_type": "execute_result"
    }
   ],
   "source": [
    "#numer of class\n",
    "num_class = sum(1 for entry in os.scandir(\"archive\") if not entry.is_file())\n",
    "\n",
    "for i in range(num_class):\n",
    "    if i == 0:\n",
    "        FullMatrix = ClassMatrix(i+1)\n",
    "    else:\n",
    "        FullMatrix = np.append(FullMatrix, ClassMatrix(i+1),axis=1)\n",
    "FullMatrix.shape"
   ]
  },
  {
   "cell_type": "code",
   "execution_count": null,
   "metadata": {},
   "outputs": [
    {
     "name": "stdout",
     "output_type": "stream",
     "text": [
      "[85.6175 85.5775 85.925  ... 76.87   75.865  75.2275]\n"
     ]
    },
    {
     "data": {
      "text/plain": [
       "(10304,)"
      ]
     },
     "execution_count": 41,
     "metadata": {},
     "output_type": "execute_result"
    }
   ],
   "source": [
    "#The average face\n",
    "MeanFace=np.mean(FullMatrix, axis=1)\n",
    "ColumnMeanFace= MeanFace[:, np.newaxis]\n",
    "print(MeanFace)\n"
   ]
  },
  {
   "cell_type": "code",
   "execution_count": null,
   "metadata": {},
   "outputs": [
    {
     "data": {
      "text/plain": [
       "160000"
      ]
     },
     "execution_count": 55,
     "metadata": {},
     "output_type": "execute_result"
    }
   ],
   "source": [
    "CenteredFullMatrix=FullMatrix  - ColumnMeanFace\n",
    "#Find the Eigenface of the Data\n",
    "BtB=CenteredFullMatrix.T @ CenteredFullMatrix\n",
    "V, S, Vt = np.linalg.svd(BtB)\n",
    "V\n",
    "#Find the needed amount of eigenvalues\n",
    "eigsum=np.sum(S)\n",
    "csum=0\n",
    "for i in range(S.shape[0]):\n",
    "    csum +=S[i]\n",
    "    if csum > 0.9*eigsum:\n",
    "        e90=i\n",
    "        break\n",
    "\n",
    "S_matrix=np.sqrt(np.diag(S))\n",
    "S_reduced=S_matrix[0:r,:r]\n",
    "S_inv=np.linalg.inv(S_matrix)\n",
    "U=CenteredFullMatrix @ V @ S_inv\n",
    "e90\n"
   ]
  },
  {
   "cell_type": "code",
   "execution_count": null,
   "metadata": {},
   "outputs": [],
   "source": [
    "#Reconstruct the Eigenface as a picture\n",
    "Eigenface=U @ S_matrix +ColumnMeanFace\n",
    "face = Eigenface[:,1]\n",
    "face = np.split(face, Height)\n",
    "for i in range(len(face)):\n",
    "    if i == 0:\n",
    "        recface=face[0]\n",
    "    else:\n",
    "        recface = np.vstack((recface,face[i]))\n",
    "recim = Image.fromarray(recface).convert(\"L\")\n",
    "recim.save('test.png','PNG')"
   ]
  },
  {
   "cell_type": "code",
   "execution_count": 507,
   "metadata": {},
   "outputs": [],
   "source": [
    "#let G be the face that need to be recognize\n",
    "G = np.random.rand(U[:,1].shape[0])\n",
    "# the cotribution of a eigenface to it is calculated by\n",
    "#Let Omega be the contribution vector\n",
    "\n",
    "def Facespace(vector):\n",
    "    Omega = np.array([])\n",
    "    for i in range(num_files):\n",
    "        diff=U[:,i] @ vector\n",
    "        Omega = np.append(Omega,[[diff]] )\n",
    "    return Omega\n",
    "#Omega= Omega[:, np.newaxis]\n",
    "#Find the threshhold for the picture to be identified as a face, let that be epsilon\n",
    "epsilon=0\n",
    "S = 0\n",
    "for i in range(num_files):\n",
    "    S+= Facespace(CenteredFaceMatrix[:,i])\n",
    "    avgOmega = S/len(range(num_files))\n",
    "for i in range(num_files):\n",
    "    e = np.linalg.norm(Facespace(CenteredFaceMatrix[:,i])-avgOmega)\n",
    "    if e > epsilon:\n",
    "        epsilon = e"
   ]
  },
  {
   "cell_type": "code",
   "execution_count": 508,
   "metadata": {},
   "outputs": [
    {
     "data": {
      "text/plain": [
       "np.False_"
      ]
     },
     "execution_count": 508,
     "metadata": {},
     "output_type": "execute_result"
    }
   ],
   "source": [
    "\n",
    "#Input = ProcessImage(Image.open(\"32.JPG\"))-MeanFace\n",
    "#Input.shape\n",
    "\n",
    "image=Image.open(\"32.JPG\")\n",
    "Omega = Facespace(ProcessImage(image)-MeanFace)\n",
    "epsilon > np.linalg.norm(Omega-avgOmega)\n"
   ]
  },
  {
   "cell_type": "code",
   "execution_count": null,
   "metadata": {},
   "outputs": [],
   "source": []
  }
 ],
 "metadata": {
  "kernelspec": {
   "display_name": "Python 3",
   "language": "python",
   "name": "python3"
  },
  "language_info": {
   "codemirror_mode": {
    "name": "ipython",
    "version": 3
   },
   "file_extension": ".py",
   "mimetype": "text/x-python",
   "name": "python",
   "nbconvert_exporter": "python",
   "pygments_lexer": "ipython3",
   "version": "3.12.4"
  }
 },
 "nbformat": 4,
 "nbformat_minor": 2
}
