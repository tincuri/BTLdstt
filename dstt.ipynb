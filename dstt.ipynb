{
 "cells": [
  {
   "cell_type": "markdown",
   "metadata": {},
   "source": [
    "**Import Library**"
   ]
  },
  {
   "cell_type": "code",
   "execution_count": 2,
   "metadata": {},
   "outputs": [],
   "source": [
    "import numpy as np\n",
    "import matplotlib.pyplot as plt\n",
    "import matplotlib.image as im\n",
    "import sympy as sp\n",
    "from PIL import Image, ImageOps\n",
    "import os"
   ]
  },
  {
   "cell_type": "markdown",
   "metadata": {},
   "source": [
    "**Size of Data**"
   ]
  },
  {
   "cell_type": "code",
   "execution_count": null,
   "metadata": {},
   "outputs": [],
   "source": [
    "#Size of the image\n",
    "imgdir = \"archive\\\\s1\\\\1.pgm\"\n",
    "Face = Image.open(imgdir)\n",
    "FaceArray = im.pil_to_array(Face)\n",
    "Height, Width = FaceArray.shape\n",
    "#Number of classes\n",
    "num_class = sum(1 for entry in os.scandir(\"archive\") if not entry.is_file())\n",
    "#Number of files in a class\n",
    "num_files = sum(1 for entry in os.scandir(\"archive\\\\s1\") if entry.is_file())\n",
    "#Total number of files\n",
    "num_total = num_files*num_class"
   ]
  },
  {
   "cell_type": "markdown",
   "metadata": {},
   "source": [
    "**Function**"
   ]
  },
  {
   "cell_type": "code",
   "execution_count": null,
   "metadata": {},
   "outputs": [],
   "source": [
    "#Process the Image into a flat 1D array\n",
    "def ProcessImage(img):\n",
    "    Grascale = ImageOps.grayscale(img)\n",
    "    Facematrix = im.pil_to_array(Grascale)\n",
    "    FlatFaceArray = np.concat(Facematrix,axis=None)\n",
    "    return FlatFaceArray\n",
    "\n",
    "#Make the Data Matrix\n",
    "def Datamatrix(clsdir: str, num_files: int):\n",
    "    for i in range(num_files):\n",
    "        imgdir = clsdir +\"\\\\\" + str(i+1) + \".pgm\"\n",
    "    #Import image\n",
    "        Face = Image.open(imgdir)\n",
    "        FlatFaceArray = ProcessImage(Face)\n",
    "    #Combine each 1D array in to a matrix\n",
    "        if i == 0:\n",
    "            FaceMatrix = FlatFaceArray\n",
    "        else:\n",
    "            FaceMatrix = np.column_stack((FaceMatrix,FlatFaceArray))\n",
    "    return FaceMatrix\n",
    "\n",
    "#Make a Data Matrix for a class k\n",
    "def ClassMatrix(k: int):\n",
    "    clsdir = \"archive\\\\s\" + str(k)\n",
    "    return Datamatrix(clsdir, num_files)\n",
    "ClassMatrix(2).shape\n",
    "\n"
   ]
  },
  {
   "cell_type": "markdown",
   "metadata": {},
   "source": [
    "**Make the overall Data Matrix**"
   ]
  },
  {
   "cell_type": "code",
   "execution_count": null,
   "metadata": {},
   "outputs": [
    {
     "data": {
      "text/plain": [
       "(10304, 400)"
      ]
     },
     "execution_count": 87,
     "metadata": {},
     "output_type": "execute_result"
    }
   ],
   "source": [
    "\n",
    "for i in range(num_class):\n",
    "    if i == 0:\n",
    "        FullMatrix = ClassMatrix(i+1)\n",
    "    else:\n",
    "        FullMatrix = np.append(FullMatrix, ClassMatrix(i+1),axis=1)\n",
    "FullMatrix.shape"
   ]
  },
  {
   "cell_type": "code",
   "execution_count": 88,
   "metadata": {},
   "outputs": [
    {
     "name": "stdout",
     "output_type": "stream",
     "text": [
      "[85.6175 85.5775 85.925  ... 76.87   75.865  75.2275]\n"
     ]
    }
   ],
   "source": [
    "#The average face\n",
    "MeanFace=np.mean(FullMatrix, axis=1)\n",
    "ColumnMeanFace= MeanFace[:, np.newaxis]\n",
    "print(MeanFace)\n"
   ]
  },
  {
   "cell_type": "markdown",
   "metadata": {},
   "source": [
    "**Calculate the eigenvalues and eigenfaces**"
   ]
  },
  {
   "cell_type": "code",
   "execution_count": null,
   "metadata": {},
   "outputs": [],
   "source": [
    "#Minus the mean\n",
    "CenteredFullMatrix=FullMatrix  - ColumnMeanFace\n",
    "#Find the Eigenface of the Data\n",
    "BtB=CenteredFullMatrix.T @ CenteredFullMatrix\n",
    "V, S, Vt = np.linalg.svd(BtB)\n",
    "#Find the needed amount of eigenvalues\n",
    "eigsum=np.sum(S)\n",
    "csum=0\n",
    "for i in range(S.shape[0]):\n",
    "    csum +=S[i]\n",
    "    if csum > 0.9*eigsum:\n",
    "        e90=i\n",
    "        break\n",
    "\n",
    "#S_reduced=S[0:e90]\n",
    "#S_matrix = np.zeros(np.diag(S).shape)\n",
    "\n",
    "#S_matrix[:e90, :e90] = np.sqrt(np.diag(S_reduced))\n",
    "S_matrix = np.sqrt(np.diag(S))\n",
    "S_inv=np.linalg.inv(S_matrix)\n",
    "U=CenteredFullMatrix @ V @ S_inv\n",
    "#Reducing the eigenvalues and vector to the needed amount\n",
    "U_reduced = U[:,:e90]\n",
    "S_reduced= np.sqrt(np.diag(S[0:e90]))\n"
   ]
  },
  {
   "cell_type": "code",
   "execution_count": 97,
   "metadata": {},
   "outputs": [],
   "source": [
    "#Reconstruct the Eigenface as a picture\n",
    "Eigenface=U_reduced @ S_reduced \n",
    "face = Eigenface[:,3]\n",
    "face = np.split(face, Height)\n",
    "for i in range(len(face)):\n",
    "    if i == 0:\n",
    "        recface=face[0]\n",
    "    else:\n",
    "        recface = np.vstack((recface,face[i]))\n",
    "recim = Image.fromarray(recface).convert(\"L\")\n",
    "recim.save('test.png','PNG')"
   ]
  },
  {
   "cell_type": "code",
   "execution_count": 112,
   "metadata": {},
   "outputs": [
    {
     "data": {
      "text/plain": [
       "np.float64(5476.506638248627)"
      ]
     },
     "execution_count": 112,
     "metadata": {},
     "output_type": "execute_result"
    }
   ],
   "source": [
    "#let G be the face that need to be recognize\n",
    "# the cotribution of a eigenface to it is calculated by\n",
    "#Let Omega be the contribution vector\n",
    "\n",
    "def Facespace(vector):\n",
    "    Omega = np.array([])\n",
    "    for i in range(e90):\n",
    "        component=U_reduced[:,i] @ vector\n",
    "        Omega = np.append(Omega,[[component]] )\n",
    "    return Omega\n",
    "#Omega= Omega[:, np.newaxis]\n",
    "#Find the threshhold for the picture to be identified as a face, let that be epsilon\n",
    "epsilon=0\n",
    "S = 0\n",
    "for i in range(num_total):\n",
    "    S+= Facespace(CenteredFullMatrix[:,i])\n",
    "    avgOmega = S/len(range(num_files))\n",
    "\n",
    "for i in range(num_total):\n",
    "    e = np.linalg.norm(Facespace(CenteredFullMatrix[:,i])-avgOmega)\n",
    "    if e > epsilon:\n",
    "        epsilon = e\n",
    "avgOmega\n",
    "epsilon"
   ]
  },
  {
   "cell_type": "code",
   "execution_count": 113,
   "metadata": {},
   "outputs": [
    {
     "data": {
      "text/plain": [
       "np.True_"
      ]
     },
     "execution_count": 113,
     "metadata": {},
     "output_type": "execute_result"
    }
   ],
   "source": [
    "\n",
    "#Input = ProcessImage(Image.open(\"32.JPG\"))-MeanFace\n",
    "#Input.shape\n",
    "\n",
    "image=Image.open(\"9.pgm\")\n",
    "Omega = Facespace(ProcessImage(image)-MeanFace)\n",
    "epsilon > np.linalg.norm(Facespace(CenteredFullMatrix[:,2])-avgOmega)"
   ]
  },
  {
   "cell_type": "code",
   "execution_count": null,
   "metadata": {},
   "outputs": [],
   "source": []
  }
 ],
 "metadata": {
  "kernelspec": {
   "display_name": "Python 3",
   "language": "python",
   "name": "python3"
  },
  "language_info": {
   "codemirror_mode": {
    "name": "ipython",
    "version": 3
   },
   "file_extension": ".py",
   "mimetype": "text/x-python",
   "name": "python",
   "nbconvert_exporter": "python",
   "pygments_lexer": "ipython3",
   "version": "3.12.4"
  }
 },
 "nbformat": 4,
 "nbformat_minor": 2
}
