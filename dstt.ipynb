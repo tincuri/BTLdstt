{
 "cells": [
  {
   "cell_type": "markdown",
   "metadata": {},
   "source": [
    "**Import Library**"
   ]
  },
  {
   "cell_type": "code",
   "execution_count": 2,
   "metadata": {},
   "outputs": [],
   "source": [
    "import numpy as np\n",
    "import matplotlib.pyplot as plt\n",
    "import matplotlib.image as im\n",
    "import sympy as sp\n",
    "from PIL import Image, ImageOps\n",
    "import os"
   ]
  },
  {
   "cell_type": "markdown",
   "metadata": {},
   "source": [
    "**Size of Data**"
   ]
  },
  {
   "cell_type": "code",
   "execution_count": null,
   "metadata": {},
   "outputs": [],
   "source": [
    "#Size of the image\n",
    "imgdir = \"archive\\\\s1\\\\1.pgm\"\n",
    "Face = Image.open(imgdir)\n",
    "FaceArray = im.pil_to_array(Face)\n",
    "Height, Width = FaceArray.shape\n",
    "#Number of classes\n",
    "num_class = sum(1 for entry in os.scandir(\"archive\") if not entry.is_file())\n",
    "#Number of files in a class\n",
    "num_files = sum(1 for entry in os.scandir(\"archive\\\\s1\") if entry.is_file())\n",
    "#Total number of files\n",
    "num_total = num_files*num_class"
   ]
  },
  {
   "cell_type": "markdown",
   "metadata": {},
   "source": [
    "**Function**"
   ]
  },
  {
   "cell_type": "code",
   "execution_count": 133,
   "metadata": {},
   "outputs": [
    {
     "data": {
      "text/plain": [
       "(10304, 10)"
      ]
     },
     "execution_count": 133,
     "metadata": {},
     "output_type": "execute_result"
    }
   ],
   "source": [
    "#Process the Image into a flat 1D array\n",
    "def ProcessImage(img):\n",
    "    Grayscale = img.convert('L')\n",
    "    Facematrix = im.pil_to_array(Grayscale)\n",
    "    FlatFaceArray = np.concat(Facematrix,axis=None)/255\n",
    "\n",
    "    return FlatFaceArray\n",
    "\n",
    "#Make the Data Matrix\n",
    "def Datamatrix(clsdir: str, num_files: int):\n",
    "    for i in range(num_files):\n",
    "        imgdir = clsdir +\"\\\\\" + str(i+1) + \".pgm\"\n",
    "    #Import image\n",
    "        Face = Image.open(imgdir)\n",
    "        FlatFaceArray = ProcessImage(Face)\n",
    "    #Combine each 1D array in to a matrix\n",
    "        if i == 0:\n",
    "            FaceMatrix = FlatFaceArray\n",
    "        else:\n",
    "            FaceMatrix = np.column_stack((FaceMatrix,FlatFaceArray))\n",
    "    return FaceMatrix\n",
    "\n",
    "#Make a Data Matrix for a class k\n",
    "def ClassMatrix(k: int):\n",
    "    clsdir = \"archive\\\\s\" + str(k)\n",
    "    return Datamatrix(clsdir, num_files)\n",
    "ClassMatrix(2).shape\n",
    "\n"
   ]
  },
  {
   "cell_type": "markdown",
   "metadata": {},
   "source": [
    "**Make the overall Data Matrix**"
   ]
  },
  {
   "cell_type": "code",
   "execution_count": 134,
   "metadata": {},
   "outputs": [
    {
     "data": {
      "text/plain": [
       "array([[0.18823529, 0.23529412, 0.15294118, ..., 0.49019608, 0.46666667,\n",
       "        0.49019608],\n",
       "       [0.19215686, 0.23529412, 0.17254902, ..., 0.46666667, 0.47058824,\n",
       "        0.48627451],\n",
       "       [0.17647059, 0.24313725, 0.20784314, ..., 0.48627451, 0.47058824,\n",
       "        0.48627451],\n",
       "       ...,\n",
       "       [0.18431373, 0.1254902 , 0.11372549, ..., 0.14117647, 0.34901961,\n",
       "        0.14117647],\n",
       "       [0.18039216, 0.13333333, 0.10196078, ..., 0.15294118, 0.36862745,\n",
       "        0.1372549 ],\n",
       "       [0.18039216, 0.13333333, 0.11372549, ..., 0.15686275, 0.33333333,\n",
       "        0.13333333]])"
      ]
     },
     "execution_count": 134,
     "metadata": {},
     "output_type": "execute_result"
    }
   ],
   "source": [
    "\n",
    "for i in range(num_class):\n",
    "    if i == 0:\n",
    "        FullMatrix = ClassMatrix(i+1)\n",
    "    else:\n",
    "        FullMatrix = np.append(FullMatrix, ClassMatrix(i+1),axis=1)\n",
    "FullMatrix"
   ]
  },
  {
   "cell_type": "code",
   "execution_count": 135,
   "metadata": {},
   "outputs": [
    {
     "name": "stdout",
     "output_type": "stream",
     "text": [
      "[0.3357549  0.33559804 0.33696078 ... 0.30145098 0.2975098  0.2950098 ]\n"
     ]
    }
   ],
   "source": [
    "#The average face\n",
    "MeanFace=np.mean(FullMatrix, axis=1)\n",
    "ColumnMeanFace= MeanFace[:, np.newaxis]\n",
    "print(MeanFace)\n"
   ]
  },
  {
   "cell_type": "markdown",
   "metadata": {},
   "source": [
    "**Calculate the eigenvalues and eigenfaces**"
   ]
  },
  {
   "cell_type": "code",
   "execution_count": 142,
   "metadata": {},
   "outputs": [
    {
     "data": {
      "text/plain": [
       "array([[ 2.12507923e-03,  1.46851506e-02,  1.99294881e-02, ...,\n",
       "         7.24583408e-03,  1.97647330e-03,  1.88152095e-09],\n",
       "       [ 2.11276614e-03,  1.46139383e-02,  2.00092007e-02, ...,\n",
       "         5.62517084e-04, -2.45204094e-03,  9.40760474e-09],\n",
       "       [ 2.14250419e-03,  1.46318643e-02,  1.98385174e-02, ...,\n",
       "        -2.75106052e-03,  3.55081707e-04, -1.74040688e-09],\n",
       "       ...,\n",
       "       [ 7.04005567e-03, -1.05610380e-02,  1.41636829e-02, ...,\n",
       "         4.57939269e-03,  9.57219506e-03, -7.14977960e-09],\n",
       "       [ 6.39096175e-03, -9.70069545e-03,  1.43943595e-02, ...,\n",
       "         1.45672324e-04,  9.97750968e-03, -1.59929281e-08],\n",
       "       [ 7.34479428e-03, -8.81892481e-03,  1.48748947e-02, ...,\n",
       "         2.13634292e-02,  1.05696646e-02, -1.09128215e-08]])"
      ]
     },
     "execution_count": 142,
     "metadata": {},
     "output_type": "execute_result"
    }
   ],
   "source": [
    "#Minus the mean\n",
    "CenteredFullMatrix=FullMatrix  - ColumnMeanFace\n",
    "#Find the Eigenface of the Data\n",
    "BtB=CenteredFullMatrix.T @ CenteredFullMatrix\n",
    "V, S, Vt = np.linalg.svd(BtB)\n",
    "#Find the needed amount of eigenvalues\n",
    "eigsum=np.sum(S)\n",
    "csum=0\n",
    "for i in range(S.shape[0]):\n",
    "    csum +=S[i]\n",
    "    if csum > 0.9*eigsum:\n",
    "        e90=i\n",
    "        break\n",
    "\n",
    "#S_reduced=S[0:e90]\n",
    "#S_matrix = np.zeros(np.diag(S).shape)\n",
    "\n",
    "#S_matrix[:e90, :e90] = np.sqrt(np.diag(S_reduced))\n",
    "S_matrix = np.sqrt(np.diag(S))\n",
    "S_inv=np.linalg.inv(S_matrix)\n",
    "U=CenteredFullMatrix @ V @ S_inv\n",
    "#Reducing the eigenvalues and vector to the needed amount\n",
    "U_reduced = U[:,:e90]\n",
    "S_reduced= np.sqrt(np.diag(S[0:e90]))\n",
    "U "
   ]
  },
  {
   "cell_type": "code",
   "execution_count": 143,
   "metadata": {},
   "outputs": [],
   "source": [
    "#Reconstruct an example Eigenface as a picture\n",
    "Eigenface=U_reduced \n",
    "face = Eigenface[:,1]*255\n",
    "face = np.split(face, Height)\n",
    "for i in range(len(face)):\n",
    "    if i == 0:\n",
    "        recface=face[0]\n",
    "    else:\n",
    "        recface = np.vstack((recface,face[i]))\n",
    "recim = Image.fromarray(recface).convert(\"L\")\n",
    "recim.save('test.png','PNG')"
   ]
  },
  {
   "cell_type": "code",
   "execution_count": 152,
   "metadata": {},
   "outputs": [],
   "source": [
    "#Projecting a vector in to the facespace\n",
    "def Facespace(vector):\n",
    "    Omega = np.array([])\n",
    "    for i in range(e90):\n",
    "        component=U_reduced[:,i] @ vector\n",
    "        Omega = np.append(Omega,[[component]] )\n",
    "    return Omega\n",
    "#Omega= Omega[:, np.newaxis]\n",
    "\n",
    "#the average of a class k in facespace\n",
    "def avgClassOmega(k: int):\n",
    "    S = 0\n",
    "    for i in range(num_files):\n",
    "        S+= Facespace(ClassMatrix(k)[:,i])\n",
    "    return S/len(range(num_files))\n",
    "\n",
    "#Find the threshold for the picture to be indentified as a face in class k\n",
    "def Classepsilon(k: int):\n",
    "    Cepsilon = 0\n",
    "    for i in range(num_files):\n",
    "        e=np.linalg.norm(Facespace(ClassMatrix(k)[:,i])-avgClassOmega(k))\n",
    "        if e > Cepsilon:\n",
    "            Cepsilon = e\n",
    "    return Cepsilon*1.2\n"
   ]
  },
  {
   "cell_type": "code",
   "execution_count": 150,
   "metadata": {},
   "outputs": [
    {
     "data": {
      "text/plain": [
       "np.float64(25.77179594469942)"
      ]
     },
     "execution_count": 150,
     "metadata": {},
     "output_type": "execute_result"
    }
   ],
   "source": [
    "\n",
    "#The average of all the data in facespace\n",
    "S = 0\n",
    "for i in range(num_total):\n",
    "    S+= Facespace(CenteredFullMatrix[:,i])\n",
    "avgOmega = S/len(range(num_files))\n",
    "#Find the threshold for the picture to be identified as a face, let that be epsilon\n",
    "epsilon=0\n",
    "\n",
    "for i in range(num_total):\n",
    "    e = np.linalg.norm(Facespace(CenteredFullMatrix[:,i])-avgOmega)\n",
    "    if e > epsilon:\n",
    "        epsilon = e\n",
    "#Let the threshold be 1.2epsilon\n",
    "epsilon = 1.2*epsilon\n",
    "epsilon"
   ]
  },
  {
   "cell_type": "code",
   "execution_count": null,
   "metadata": {},
   "outputs": [
    {
     "data": {
      "text/plain": [
       "np.True_"
      ]
     },
     "execution_count": 145,
     "metadata": {},
     "output_type": "execute_result"
    }
   ],
   "source": [
    "\n",
    "#Input = ProcessImage(Image.open(\"32.JPG\"))-MeanFace\n",
    "#Input.shape\n",
    "#Let the image that need to be specify is input\n",
    "image=Image.open(\"9.pgm\")\n",
    "Omega = Facespace(ProcessImage(image)-MeanFace)\n",
    "epsilon > np.linalg.norm(Facespace(CenteredFullMatrix[:,2])-avgOmega)"
   ]
  },
  {
   "cell_type": "code",
   "execution_count": 147,
   "metadata": {},
   "outputs": [
    {
     "data": {
      "text/plain": [
       "(112, 92)"
      ]
     },
     "execution_count": 147,
     "metadata": {},
     "output_type": "execute_result"
    }
   ],
   "source": [
    "Height, Width"
   ]
  },
  {
   "cell_type": "code",
   "execution_count": null,
   "metadata": {},
   "outputs": [
    {
     "data": {
      "text/plain": [
       "np.float64(12.7453321461929)"
      ]
     },
     "execution_count": 154,
     "metadata": {},
     "output_type": "execute_result"
    }
   ],
   "source": []
  },
  {
   "cell_type": "code",
   "execution_count": null,
   "metadata": {},
   "outputs": [],
   "source": []
  }
 ],
 "metadata": {
  "kernelspec": {
   "display_name": "Python 3",
   "language": "python",
   "name": "python3"
  },
  "language_info": {
   "codemirror_mode": {
    "name": "ipython",
    "version": 3
   },
   "file_extension": ".py",
   "mimetype": "text/x-python",
   "name": "python",
   "nbconvert_exporter": "python",
   "pygments_lexer": "ipython3",
   "version": "3.12.4"
  }
 },
 "nbformat": 4,
 "nbformat_minor": 2
}
