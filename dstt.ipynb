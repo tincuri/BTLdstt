{
 "cells": [
  {
   "cell_type": "markdown",
   "metadata": {},
   "source": [
    "**Import Library**"
   ]
  },
  {
   "cell_type": "code",
   "execution_count": 289,
   "metadata": {},
   "outputs": [],
   "source": [
    "import numpy as np\n",
    "import matplotlib.pyplot as plt\n",
    "import matplotlib.image as im\n",
    "import sympy as sp\n",
    "from PIL import Image\n",
    "import os"
   ]
  },
  {
   "cell_type": "markdown",
   "metadata": {},
   "source": [
    "**Function**"
   ]
  },
  {
   "cell_type": "code",
   "execution_count": 290,
   "metadata": {},
   "outputs": [],
   "source": [
    "#Process the Image into a flat 1D array\n",
    "def ProcessImage(img):\n",
    "    Grayscale = img.convert('L')\n",
    "    Facematrix = im.pil_to_array(Grayscale)/255\n",
    "    FlatFaceArray = np.concat(Facematrix,axis=None)\n",
    "\n",
    "    return FlatFaceArray\n",
    "\n",
    "#More efficent way to calculate the svd of the datamatrix\n",
    "def svd(X):\n",
    "    XtX = X.T @ X\n",
    "    V, S, Vt = np.linalg.svd(XtX)\n",
    "    S_matrix = np.sqrt(np.diag(S))\n",
    "    S_inv = np.linalg.inv(S_matrix)\n",
    "    U = X @ V @ S_inv\n",
    "    return U, np.sqrt(S), Vt"
   ]
  },
  {
   "cell_type": "markdown",
   "metadata": {},
   "source": [
    "# Yale database"
   ]
  },
  {
   "cell_type": "code",
   "execution_count": 235,
   "metadata": {},
   "outputs": [
    {
     "data": {
      "text/plain": [
       "(77760, 165)"
      ]
     },
     "execution_count": 235,
     "metadata": {},
     "output_type": "execute_result"
    }
   ],
   "source": [
    "#Yale datamtrix\n",
    "# filename structure\n",
    "path = 'yale/' # path to the database\n",
    "ids = range(1, 16) # 15 persons\n",
    "states = ['centerlight', 'glasses', 'happy', 'leftlight',\n",
    "          'noglasses', 'normal', 'rightlight','sad',\n",
    "          'sleepy', 'surprised', 'wink' ]\n",
    "prefix = 'subject'\n",
    "surfix = '.pgm'\n",
    "num_files = len(states)\n",
    "num_class = 15\n",
    "num_total = num_class * num_files\n",
    "# data dimension\n",
    "Height, Width = im.pil_to_array(Image.open('yale\\\\subject01.happy.pgm')).shape\n",
    "D = Height * Width\n",
    "# collect all data\n",
    "FullMatrix = np.zeros((D, num_total))\n",
    "cnt = 0\n",
    "for person_id in range(1, 16):\n",
    "    for state in states:\n",
    "        fn = path + prefix + str(person_id).zfill(2) + '.' + state + surfix\n",
    "        FullMatrix[:, cnt] = ProcessImage(Image.open(fn))\n",
    "        cnt += 1\n",
    "\n",
    "def ClassMatrix(k:int):\n",
    "    return FullMatrix[:,num_files*(k-1):num_files*k]\n",
    "FullMatrix.shape"
   ]
  },
  {
   "cell_type": "markdown",
   "metadata": {},
   "source": [
    "# ORL database"
   ]
  },
  {
   "cell_type": "code",
   "execution_count": 291,
   "metadata": {},
   "outputs": [
    {
     "data": {
      "text/plain": [
       "(10304, 200)"
      ]
     },
     "execution_count": 291,
     "metadata": {},
     "output_type": "execute_result"
    }
   ],
   "source": [
    "#Size of the image\n",
    "FaceArray = im.pil_to_array(Image.open(\"archive\\\\s1\\\\1.pgm\"))\n",
    "Height, Width = FaceArray.shape\n",
    "#Number of classes\n",
    "num_class = sum(1 for entry in os.scandir(\"archive\") if not entry.is_file())\n",
    "#Number of files in a class\n",
    "num_files = sum(1 for entry in os.scandir(\"archive\\\\s1\") if entry.is_file())-5\n",
    "#Total number of files\n",
    "num_total = num_files*num_class\n",
    "\n",
    "D = Height * Width\n",
    "#Make the Data Matrix\n",
    "FullMatrix = np.zeros((D,num_total))\n",
    "cnt = 0\n",
    "for i in range(num_class):\n",
    "    for j in range(num_files):\n",
    "        imgdir = \"archive\\\\s\" + str(i+1) +\"\\\\\" +str(j+1) +\".pgm\"\n",
    "        FullMatrix[:, cnt] = ProcessImage(Image.open(imgdir))\n",
    "        cnt +=1\n",
    "\n",
    "def ClassMatrix(k:int):\n",
    "    return FullMatrix[:,num_files*(k-1):num_files*k]\n",
    "FullMatrix.shape"
   ]
  },
  {
   "cell_type": "code",
   "execution_count": 292,
   "metadata": {},
   "outputs": [
    {
     "name": "stdout",
     "output_type": "stream",
     "text": [
      "[0.33329412 0.33321569 0.33486275 ... 0.28241176 0.28635294 0.28154902]\n"
     ]
    }
   ],
   "source": [
    "#The average face\n",
    "MeanFace=np.mean(FullMatrix, axis=1)\n",
    "ColumnMeanFace= MeanFace[:, np.newaxis]\n",
    "print(MeanFace)"
   ]
  },
  {
   "cell_type": "markdown",
   "metadata": {},
   "source": [
    "**Calculate the eigenvalues and eigenfaces**"
   ]
  },
  {
   "cell_type": "code",
   "execution_count": 293,
   "metadata": {},
   "outputs": [
    {
     "data": {
      "text/plain": [
       "(10304, 150)"
      ]
     },
     "execution_count": 293,
     "metadata": {},
     "output_type": "execute_result"
    }
   ],
   "source": [
    "#Minus the mean\n",
    "CenteredFullMatrix=FullMatrix  - ColumnMeanFace\n",
    "#Find the Eigenface of the Data\n",
    "U, S, Vt = svd(CenteredFullMatrix)\n",
    "#Find the needed amount of eigenvalues\n",
    "eigsum=np.sum(S)\n",
    "csum=0\n",
    "for i in range(S.shape[0]):\n",
    "    csum +=S[i]\n",
    "    if csum > 0.9*eigsum:\n",
    "        e90=i\n",
    "        break\n",
    "\n",
    "#S_matrix = np.zeros(np.diag(S).shape)\n",
    "#S_matrix[:e90, :e90] = np.sqrt(np.diag(S_reduced))\n",
    "#Reducing the eigenvalues and vector to the needed amount\n",
    "U_reduced = U[:,:e90]\n",
    "S_reduced= np.sqrt(np.diag(S[0:e90]))\n",
    "e90\n",
    "U_reduced.shape"
   ]
  },
  {
   "cell_type": "code",
   "execution_count": 294,
   "metadata": {},
   "outputs": [
    {
     "data": {
      "text/plain": [
       "(150,)"
      ]
     },
     "execution_count": 294,
     "metadata": {},
     "output_type": "execute_result"
    }
   ],
   "source": [
    "#Projecting a vector in to the facespace\n",
    "def Facespace(vector):\n",
    "    return  vector @ U_reduced\n",
    "\n",
    "#the average of a class k in facespace\n",
    "def avgClassOmega(k: int):\n",
    "    S = 0\n",
    "    for i in range(num_files):\n",
    "        S+= Facespace(ClassMatrix(k)[:,i]-MeanFace)\n",
    "    return S/len(range(num_files))\n",
    "\n",
    "#Find the threshold for the picture to be indentified as a face in class k\n",
    "def Classepsilon(k: int):\n",
    "    Cepsilon = 0\n",
    "    for i in range(num_files):\n",
    "        e=np.linalg.norm(Facespace(ClassMatrix(k)[:,i] - MeanFace)-avgClassOmega(k))\n",
    "        if e > Cepsilon:\n",
    "            Cepsilon = e\n",
    "    return Cepsilon*2\n",
    "\n",
    "#np.linalg.norm(avgClassOmega(34)), np.linalg.norm(Facespace(ClassMatrix(1)[:,1])-avgClassOmega(34))\n",
    "Facespace(CenteredFullMatrix[:,1]).shape"
   ]
  },
  {
   "cell_type": "code",
   "execution_count": 295,
   "metadata": {},
   "outputs": [
    {
     "data": {
      "text/plain": [
       "np.float64(17.200176772834443)"
      ]
     },
     "execution_count": 295,
     "metadata": {},
     "output_type": "execute_result"
    }
   ],
   "source": [
    "\n",
    "#The average of all the data in facespace\n",
    "#S = 0\n",
    "#for i in range(num_total):\n",
    "#    S = S+ Facespace(CenteredFullMatrix[:,i])\n",
    "#avgOmega = S#/len(range(num_files))\n",
    "#Find the threshold for the picture to be identified as a face, let that be epsilon\n",
    "epsilon=0\n",
    "#Array of a facevector after being transform in facespace\n",
    "def Ffacearray(facearray):\n",
    "    return Facespace(facearray) @ U_reduced.T\n",
    "for i in range(num_total):\n",
    "    facearray = CenteredFullMatrix[:,i]\n",
    "    e = np.linalg.norm(facearray-Ffacearray(facearray))\n",
    "    if e > epsilon:\n",
    "        epsilon = e\n",
    "#Let the threshold be 2epsilon\n",
    "epsilon = 5*epsilon\n",
    "epsilon\n",
    "#Facespace(ClassMatrix(2)[:,1]).shape"
   ]
  },
  {
   "cell_type": "markdown",
   "metadata": {},
   "source": [
    "**Face recognization**"
   ]
  },
  {
   "cell_type": "code",
   "execution_count": 296,
   "metadata": {},
   "outputs": [],
   "source": [
    "\n",
    "#Input = ProcessImage(Image.open(\"32.JPG\"))-MeanFace\n",
    "#Input.shape\n",
    "#Let the image that need to be specify is input\n",
    "def Facedetect(imgdir: str ):\n",
    "    image=Image.open(imgdir)\n",
    "    facearray = ProcessImage(image)-MeanFace\n",
    "    dist = np.linalg.norm(facearray - Ffacearray(facearray))\n",
    "    if epsilon > dist:\n",
    "        print(\"this image contains a face\")\n",
    "    else: \n",
    "        print(\"this image does not contain a face\")\n",
    "    print(dist)\n",
    "\n",
    "def EigenClassify(imgdir: str):\n",
    "    image = Image.open(imgdir)\n",
    "    facearray = ProcessImage(image) - MeanFace\n",
    "    dist = 1000\n",
    "    for i in range(num_class):\n",
    "        dist2 = np.linalg.norm(Facespace(facearray) - avgClassOmega(i+1))\n",
    "        if dist2 < dist:\n",
    "            dist = dist2\n",
    "            k = i\n",
    "    if dist <= Classepsilon(k+1):\n",
    "        return k+1\n",
    "    else:\n",
    "        return 0\n"
   ]
  },
  {
   "cell_type": "code",
   "execution_count": 297,
   "metadata": {},
   "outputs": [
    {
     "name": "stdout",
     "output_type": "stream",
     "text": [
      "this image does not contain a face\n",
      "19.58609107006067\n"
     ]
    }
   ],
   "source": [
    "Facedetect(\"input2.png\")"
   ]
  },
  {
   "cell_type": "markdown",
   "metadata": {},
   "source": [
    "# Fisher face"
   ]
  },
  {
   "cell_type": "code",
   "execution_count": 298,
   "metadata": {},
   "outputs": [
    {
     "data": {
      "text/plain": [
       "(10304, 200)"
      ]
     },
     "execution_count": 298,
     "metadata": {},
     "output_type": "execute_result"
    }
   ],
   "source": [
    "#SVD ma trận data ban đầu\n",
    "U, S, V = svd(CenteredFullMatrix)\n",
    "U.shape"
   ]
  },
  {
   "cell_type": "markdown",
   "metadata": {},
   "source": [
    "**Ta lấy PCA ma trận về N-c chiều**"
   ]
  },
  {
   "cell_type": "code",
   "execution_count": 299,
   "metadata": {},
   "outputs": [
    {
     "data": {
      "text/plain": [
       "(10304, 160)"
      ]
     },
     "execution_count": 299,
     "metadata": {},
     "output_type": "execute_result"
    }
   ],
   "source": [
    "#Lấy số chiều cần cho LDA\n",
    "W_pca = U[:,:num_total - num_class]\n",
    "W_pca.shape"
   ]
  },
  {
   "cell_type": "markdown",
   "metadata": {},
   "source": [
    "Tìm Sb và Sw"
   ]
  },
  {
   "cell_type": "code",
   "execution_count": 300,
   "metadata": {},
   "outputs": [
    {
     "data": {
      "text/plain": [
       "np.int64(39)"
      ]
     },
     "execution_count": 300,
     "metadata": {},
     "output_type": "execute_result"
    }
   ],
   "source": [
    "#Mean của một class\n",
    "def MeanClassFace(k: int):\n",
    "    MeanFace=np.mean(ClassMatrix(k), axis=1)\n",
    "    return MeanFace[:, np.newaxis]\n",
    "#Tìm Sb\n",
    "for i in range(num_class):\n",
    "    if i == 0:\n",
    "        Xb = MeanClassFace(i+1) - ColumnMeanFace\n",
    "    else:\n",
    "        Xb = np.column_stack((Xb,MeanClassFace(i+1)-ColumnMeanFace))\n",
    "Xb2 = W_pca.T @ Xb\n",
    "Sb = num_files * Xb2 @ Xb2.T\n",
    "np.linalg.matrix_rank(Sb)"
   ]
  },
  {
   "cell_type": "code",
   "execution_count": 301,
   "metadata": {},
   "outputs": [
    {
     "data": {
      "text/plain": [
       "(10304, 160)"
      ]
     },
     "execution_count": 301,
     "metadata": {},
     "output_type": "execute_result"
    }
   ],
   "source": [
    "for i in range(num_class):\n",
    "    if i == 0:\n",
    "        Xw = ClassMatrix(i+1) - MeanClassFace(i+1)\n",
    "        Xw2 = W_pca.T @ Xw\n",
    "        Sw = Xw2 @ Xw2.T\n",
    "    else:\n",
    "        Xw = ClassMatrix(i+1) - MeanClassFace(i+1)\n",
    "        Xw2 = W_pca.T @ Xw\n",
    "        Sw += Xw2 @ Xw2.T\n",
    "W_pca.shape"
   ]
  },
  {
   "cell_type": "code",
   "execution_count": 302,
   "metadata": {},
   "outputs": [
    {
     "data": {
      "text/plain": [
       "(160, 39)"
      ]
     },
     "execution_count": 302,
     "metadata": {},
     "output_type": "execute_result"
    }
   ],
   "source": [
    "#LDA\n",
    "U, S, Vt = np.linalg.svd(np.linalg.inv(Sw) @ Sb)\n",
    "#Giảm các ma trận về số chiều cần dùng (rank của Sb)\n",
    "dim = np.linalg.matrix_rank(Sb)\n",
    "W_lda= U[:, :dim] \n",
    "S_lda= np.diag(S[0:dim])\n",
    "W_lda.shape"
   ]
  },
  {
   "cell_type": "code",
   "execution_count": 303,
   "metadata": {},
   "outputs": [
    {
     "data": {
      "text/plain": [
       "(10304, 39)"
      ]
     },
     "execution_count": 303,
     "metadata": {},
     "output_type": "execute_result"
    }
   ],
   "source": [
    "W_opt=W_pca @ W_lda\n",
    "W_opt.shape"
   ]
  },
  {
   "cell_type": "code",
   "execution_count": 304,
   "metadata": {},
   "outputs": [],
   "source": [
    "def Fisherfacespace(vec):\n",
    "    return W_opt.T @ vec\n",
    "#the average of a class k in facespace\n",
    "def avgFisherClass(k: int):\n",
    "    S = 0\n",
    "    for i in range(num_files):\n",
    "        S+= Fisherfacespace(ClassMatrix(k)[:,i]-MeanFace)\n",
    "    return S/len(range(num_files))\n",
    "\n",
    "#Find the threshold for the picture to be indentified as a face in class k\n",
    "def FisherClassepsilon(k: int):\n",
    "    Cepsilon = 0\n",
    "    for i in range(num_files):\n",
    "        e=np.linalg.norm(Fisherfacespace(ClassMatrix(k)[:,i]-MeanFace)-avgFisherClass(k))\n",
    "        if e > Cepsilon:\n",
    "            Cepsilon = e\n",
    "    return Cepsilon*2\n",
    "\n",
    "def FisherClassify(imgdir: str):\n",
    "    image = Image.open(imgdir)\n",
    "    facearray = ProcessImage(image) - MeanFace\n",
    "    dist = 1000\n",
    "    for i in range(num_class):\n",
    "        dist2 = np.linalg.norm(Fisherfacespace(facearray) - avgFisherClass(i+1))\n",
    "        if dist2 < dist:\n",
    "            dist = dist2\n",
    "            k = i\n",
    "    if dist <= FisherClassepsilon(k+1)*10:\n",
    "        return k+1\n",
    "    else:\n",
    "        return 0\n"
   ]
  },
  {
   "cell_type": "code",
   "execution_count": 305,
   "metadata": {},
   "outputs": [],
   "source": [
    "def Classify(imgdir: str, mode: str):\n",
    "    if mode == \"e\":\n",
    "        c = EigenClassify(imgdir)\n",
    "    elif mode == \"f\":\n",
    "        c = FisherClassify(imgdir)\n",
    "    if c == 0:\n",
    "        print(\"This image is not identified\")\n",
    "    else:\n",
    "        print(f\"This image is in class {c}\")"
   ]
  },
  {
   "cell_type": "code",
   "execution_count": 307,
   "metadata": {},
   "outputs": [
    {
     "name": "stdout",
     "output_type": "stream",
     "text": [
      "This image is in class 1\n"
     ]
    }
   ],
   "source": [
    "Classify(\"archive\\\\s1\\\\9.pgm\", \"e\")"
   ]
  },
  {
   "cell_type": "markdown",
   "metadata": {},
   "source": [
    "# Make the comparison data "
   ]
  },
  {
   "cell_type": "code",
   "execution_count": 308,
   "metadata": {},
   "outputs": [
    {
     "data": {
      "text/plain": [
       "0.8625"
      ]
     },
     "execution_count": 308,
     "metadata": {},
     "output_type": "execute_result"
    }
   ],
   "source": [
    "#Let the input be the 9th and 10th image of each class\n",
    "#Let S be the counter for success classify attempt\n",
    "S = 0\n",
    "#Let T be the total amouth of attempt\n",
    "T = num_class*2\n",
    "for i in range(num_class):\n",
    "    for j in [9,10]:\n",
    "        if EigenClassify(f\"archive\\\\s{i+1}\\\\{j}.pgm\") == i+1:\n",
    "            S+=1\n",
    "S/T"
   ]
  },
  {
   "cell_type": "code",
   "execution_count": 285,
   "metadata": {},
   "outputs": [
    {
     "data": {
      "text/plain": [
       "0.9375"
      ]
     },
     "execution_count": 285,
     "metadata": {},
     "output_type": "execute_result"
    }
   ],
   "source": [
    "#Let S be the counter for success classify attempt\n",
    "S = 0\n",
    "#Let T be the total amouth of attempt\n",
    "T = num_class*2\n",
    "for i in range(num_class):\n",
    "    for j in [9,10]:\n",
    "        if FisherClassify(f\"archive\\\\s{i+1}\\\\{j}.pgm\") == i+1:\n",
    "            S+=1\n",
    "S/T"
   ]
  },
  {
   "cell_type": "code",
   "execution_count": null,
   "metadata": {},
   "outputs": [],
   "source": [
    "S = 0\n",
    "T = num_class*2\n",
    "\n",
    "path = 'yale/' # path to the database\n",
    "ids = range(1, 16) # 15 persons\n",
    "#states = ['centerlight', 'glasses', 'happy', 'leftlight','noglasses', 'normal', 'rightlight','sad', 'sleepy', 'surprised', 'wink' ]\n",
    "states = ['surprised', 'wink' ]\n",
    "\n",
    "prefix = 'subject'\n",
    "surfix = '.pgm'\n",
    "for person_id in range(1, 16):\n",
    "    for state in states:\n",
    "        fn = path + prefix + str(person_id).zfill(2) + '.' + state + surfix\n",
    "        if FisherClassify(fn) == person_id:\n",
    "            S +=1\n",
    "\n",
    "S/T"
   ]
  },
  {
   "cell_type": "code",
   "execution_count": null,
   "metadata": {},
   "outputs": [
    {
     "data": {
      "text/plain": [
       "<matplotlib.image.AxesImage at 0x11cbb3b25a0>"
      ]
     },
     "execution_count": 604,
     "metadata": {},
     "output_type": "execute_result"
    },
    {
     "data": {
      "image/png": "[encoded data removed]",
      "text/plain": [
       "<Figure size 640x480 with 1 Axes>"
      ]
     },
     "metadata": {},
     "output_type": "display_data"
    }
   ],
   "source": [
    "plt.imshow(im.reshape((Height, Width)), cmap=plt.cm.gray)\n",
    "plt.imshow(W_opt[:,1].reshape((Height,Width)), cmap=plt.cm.gray)"
   ]
  },
  {
   "cell_type": "code",
   "execution_count": 723,
   "metadata": {},
   "outputs": [
    {
     "data": {
      "text/plain": [
       "<matplotlib.image.AxesImage at 0x11cbd00fec0>"
      ]
     },
     "execution_count": 723,
     "metadata": {},
     "output_type": "execute_result"
    },
    {
     "data": {
      "image/png": "[encoded data removed]",
      "text/plain": [
       "<Figure size 640x480 with 1 Axes>"
      ]
     },
     "metadata": {},
     "output_type": "display_data"
    }
   ],
   "source": [
    "plt.figure()\n",
    "img = ProcessImage(Image.open(\"18.JPG\"))\n",
    "#img = CenteredFullMatrix[:,3]\n",
    "plt.imshow(img.reshape((Height, Width)), cmap=plt.cm.gray)\n",
    "plt.imshow(Ffacearray(img).reshape((Height, Width)),cmap=plt.cm.gray)\n",
    "#ProcessImage(Image.open(\"input.JPG\"))\n"
   ]
  },
  {
   "cell_type": "code",
   "execution_count": null,
   "metadata": {},
   "outputs": [
    {
     "data": {
      "image/png": "[encoded data removed]",
      "text/plain": [
       "<Figure size 640x480 with 1 Axes>"
      ]
     },
     "metadata": {},
     "output_type": "display_data"
    },
    {
     "data": {
      "image/png": "[encoded data removed]",
      "text/plain": [
       "<Figure size 640x480 with 1 Axes>"
      ]
     },
     "metadata": {},
     "output_type": "display_data"
    }
   ],
   "source": [
    "def plot_cumulative_sum(Sr):\n",
    "    plt.clf\n",
    "    plt.figure(1)\n",
    "    plt.semilogy(np.diag(Sr))\n",
    "    plt.title('Singular Values')\n",
    "    plt.show()\n",
    "\n",
    "    plt.figure(1)\n",
    "    plt.plot(np.cumsum(np.diag(Sr))/np.sum(np.diag(Sr)))\n",
    "    plt.title('Singular Values: Cumulative Sum')\n",
    "    plt.show()\n",
    "plot_cumulative_sum(S)"
   ]
  }
 ],
 "metadata": {
  "kernelspec": {
   "display_name": "Python 3",
   "language": "python",
   "name": "python3"
  },
  "language_info": {
   "codemirror_mode": {
    "name": "ipython",
    "version": 3
   },
   "file_extension": ".py",
   "mimetype": "text/x-python",
   "name": "python",
   "nbconvert_exporter": "python",
   "pygments_lexer": "ipython3",
   "version": "3.12.4"
  }
 },
 "nbformat": 4,
 "nbformat_minor": 2
}
